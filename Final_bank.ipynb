{
 "cells": [
  {
   "cell_type": "markdown",
   "metadata": {},
   "source": [
    "# Анализ оттока клиентов банка и сегментация пользователей по потреблению\n",
    "\n",
    "## Общая информация\n",
    "### Задача\n",
    "Проанализировать клиентов регионального банка и сегментировать пользователей по количеству потребляемых продуктов.\n",
    "* Провести исследовательский анализ данных.\n",
    "* Сегментировать пользователей на основе данных о количестве потребляемых продуктов\n",
    "* Сформулировать и проверить статистические гипотезы:\n",
    "\n",
    "1. Гипотеза о связи между количеством используемого продукта и оттоком пользователей. \n",
    "2. Гипотеза о различии дохода между теми клиентами, которые пользуются двумя продуктами банка, и теми, которые пользуются одним.\n",
    "\n",
    "### Описание данных\n",
    "Датасет содержит данные о клиентах банка «Метанпром». Банк располагается в Ярославле и областных городах: Ростов Великий и Рыбинск.\n",
    "\n",
    "Колонки датасета:\n",
    "* `userid` — идентификатор пользователя,\n",
    "* `score` — баллы кредитного скоринга,\n",
    "* `City` — город,\n",
    "* `Gender` — пол,\n",
    "* `Age` — возраст,\n",
    "* `Objects` — количество объектов в собственности,\n",
    "* `Balance` — баланс на счёте,\n",
    "* `Products` — количество продуктов, которыми пользуется клиент,\n",
    "* `CreditCard` — есть ли кредитная карта,\n",
    "* `Loyalty` — активный клиент,\n",
    "* `estimated_salary` — заработная плата клиента,\n",
    "* `Churn` — ушёл или нет.\n"
   ]
  },
  {
   "cell_type": "markdown",
   "metadata": {},
   "source": [
    "## Дашборд\n",
    "https://public.tableau.com/app/profile/sofia8595/viz/_16526304269850/Dashboard1?publish=yes\n",
    "## Презентация\n",
    "https://disk.yandex.ru/i/cdJc3vYW6EZG2A"
   ]
  },
  {
   "cell_type": "markdown",
   "metadata": {},
   "source": [
    "## Обзор данных\n",
    "Составим первое представление о данных.\n",
    "\n",
    "Импортируем необходимые для работы библиотеки"
   ]
  },
  {
   "cell_type": "code",
   "execution_count": 79,
   "metadata": {},
   "outputs": [],
   "source": [
    "import pandas as pd\n",
    "import seaborn as sns\n",
    "\n",
    "import matplotlib.pyplot as plt\n",
    "import numpy as np\n",
    "\n",
    "\n",
    "from sklearn.model_selection import train_test_split\n",
    "from sklearn.linear_model import LogisticRegression\n",
    "from sklearn.ensemble import RandomForestClassifier\n",
    "from sklearn.preprocessing import StandardScaler\n",
    "from sklearn.metrics import accuracy_score, precision_score, recall_score, f1_score\n",
    "from scipy.cluster.hierarchy import dendrogram, linkage\n",
    "from scipy import stats as st\n",
    "from sklearn.cluster import KMeans\n",
    "import warnings\n",
    "\n",
    "warnings.filterwarnings('ignore')\n",
    "pd.set_option('display.max_columns', None)\n",
    "pd.options.display.float_format = '{:,.2f}'.format\n",
    "sns.set(rc={'figure.figsize':(16,9)})"
   ]
  },
  {
   "cell_type": "code",
   "execution_count": 80,
   "metadata": {},
   "outputs": [
    {
     "data": {
      "text/html": [
       "<div>\n",
       "<style scoped>\n",
       "    .dataframe tbody tr th:only-of-type {\n",
       "        vertical-align: middle;\n",
       "    }\n",
       "\n",
       "    .dataframe tbody tr th {\n",
       "        vertical-align: top;\n",
       "    }\n",
       "\n",
       "    .dataframe thead th {\n",
       "        text-align: right;\n",
       "    }\n",
       "</style>\n",
       "<table border=\"1\" class=\"dataframe\">\n",
       "  <thead>\n",
       "    <tr style=\"text-align: right;\">\n",
       "      <th></th>\n",
       "      <th>userid</th>\n",
       "      <th>score</th>\n",
       "      <th>City</th>\n",
       "      <th>Gender</th>\n",
       "      <th>Age</th>\n",
       "      <th>Objects</th>\n",
       "      <th>Balance</th>\n",
       "      <th>Products</th>\n",
       "      <th>CreditCard</th>\n",
       "      <th>Loyalty</th>\n",
       "      <th>estimated_salary</th>\n",
       "      <th>Churn</th>\n",
       "    </tr>\n",
       "  </thead>\n",
       "  <tbody>\n",
       "    <tr>\n",
       "      <th>0</th>\n",
       "      <td>15677338</td>\n",
       "      <td>619</td>\n",
       "      <td>Ярославль</td>\n",
       "      <td>Ж</td>\n",
       "      <td>42</td>\n",
       "      <td>2</td>\n",
       "      <td>NaN</td>\n",
       "      <td>1</td>\n",
       "      <td>1</td>\n",
       "      <td>1</td>\n",
       "      <td>101,348.88</td>\n",
       "      <td>1</td>\n",
       "    </tr>\n",
       "    <tr>\n",
       "      <th>1</th>\n",
       "      <td>15690047</td>\n",
       "      <td>608</td>\n",
       "      <td>Рыбинск</td>\n",
       "      <td>Ж</td>\n",
       "      <td>41</td>\n",
       "      <td>1</td>\n",
       "      <td>83,807.86</td>\n",
       "      <td>1</td>\n",
       "      <td>0</td>\n",
       "      <td>1</td>\n",
       "      <td>112,542.58</td>\n",
       "      <td>0</td>\n",
       "    </tr>\n",
       "    <tr>\n",
       "      <th>2</th>\n",
       "      <td>15662040</td>\n",
       "      <td>502</td>\n",
       "      <td>Ярославль</td>\n",
       "      <td>Ж</td>\n",
       "      <td>42</td>\n",
       "      <td>8</td>\n",
       "      <td>159,660.80</td>\n",
       "      <td>3</td>\n",
       "      <td>1</td>\n",
       "      <td>0</td>\n",
       "      <td>113,931.57</td>\n",
       "      <td>1</td>\n",
       "    </tr>\n",
       "    <tr>\n",
       "      <th>3</th>\n",
       "      <td>15744090</td>\n",
       "      <td>699</td>\n",
       "      <td>Ярославль</td>\n",
       "      <td>Ж</td>\n",
       "      <td>39</td>\n",
       "      <td>1</td>\n",
       "      <td>NaN</td>\n",
       "      <td>2</td>\n",
       "      <td>0</td>\n",
       "      <td>0</td>\n",
       "      <td>93,826.63</td>\n",
       "      <td>0</td>\n",
       "    </tr>\n",
       "    <tr>\n",
       "      <th>4</th>\n",
       "      <td>15780624</td>\n",
       "      <td>850</td>\n",
       "      <td>Рыбинск</td>\n",
       "      <td>Ж</td>\n",
       "      <td>43</td>\n",
       "      <td>2</td>\n",
       "      <td>125,510.82</td>\n",
       "      <td>1</td>\n",
       "      <td>1</td>\n",
       "      <td>1</td>\n",
       "      <td>79,084.10</td>\n",
       "      <td>0</td>\n",
       "    </tr>\n",
       "    <tr>\n",
       "      <th>5</th>\n",
       "      <td>15616748</td>\n",
       "      <td>645</td>\n",
       "      <td>Рыбинск</td>\n",
       "      <td>М</td>\n",
       "      <td>44</td>\n",
       "      <td>8</td>\n",
       "      <td>113,755.78</td>\n",
       "      <td>2</td>\n",
       "      <td>1</td>\n",
       "      <td>0</td>\n",
       "      <td>149,756.71</td>\n",
       "      <td>1</td>\n",
       "    </tr>\n",
       "    <tr>\n",
       "      <th>6</th>\n",
       "      <td>15635267</td>\n",
       "      <td>822</td>\n",
       "      <td>Ярославль</td>\n",
       "      <td>М</td>\n",
       "      <td>50</td>\n",
       "      <td>7</td>\n",
       "      <td>NaN</td>\n",
       "      <td>2</td>\n",
       "      <td>1</td>\n",
       "      <td>1</td>\n",
       "      <td>10,062.80</td>\n",
       "      <td>0</td>\n",
       "    </tr>\n",
       "    <tr>\n",
       "      <th>7</th>\n",
       "      <td>15698884</td>\n",
       "      <td>376</td>\n",
       "      <td>Ростов Великий</td>\n",
       "      <td>Ж</td>\n",
       "      <td>29</td>\n",
       "      <td>4</td>\n",
       "      <td>115,046.74</td>\n",
       "      <td>4</td>\n",
       "      <td>1</td>\n",
       "      <td>0</td>\n",
       "      <td>119,346.88</td>\n",
       "      <td>1</td>\n",
       "    </tr>\n",
       "    <tr>\n",
       "      <th>8</th>\n",
       "      <td>15835101</td>\n",
       "      <td>501</td>\n",
       "      <td>Ярославль</td>\n",
       "      <td>М</td>\n",
       "      <td>44</td>\n",
       "      <td>4</td>\n",
       "      <td>142,051.07</td>\n",
       "      <td>2</td>\n",
       "      <td>0</td>\n",
       "      <td>1</td>\n",
       "      <td>74,940.50</td>\n",
       "      <td>0</td>\n",
       "    </tr>\n",
       "    <tr>\n",
       "      <th>9</th>\n",
       "      <td>15635125</td>\n",
       "      <td>684</td>\n",
       "      <td>Ярославль</td>\n",
       "      <td>М</td>\n",
       "      <td>27</td>\n",
       "      <td>2</td>\n",
       "      <td>134,603.88</td>\n",
       "      <td>1</td>\n",
       "      <td>1</td>\n",
       "      <td>1</td>\n",
       "      <td>71,725.73</td>\n",
       "      <td>0</td>\n",
       "    </tr>\n",
       "  </tbody>\n",
       "</table>\n",
       "</div>"
      ],
      "text/plain": [
       "     userid  score            City Gender  Age  Objects    Balance  Products  \\\n",
       "0  15677338    619       Ярославль      Ж   42        2        NaN         1   \n",
       "1  15690047    608         Рыбинск      Ж   41        1  83,807.86         1   \n",
       "2  15662040    502       Ярославль      Ж   42        8 159,660.80         3   \n",
       "3  15744090    699       Ярославль      Ж   39        1        NaN         2   \n",
       "4  15780624    850         Рыбинск      Ж   43        2 125,510.82         1   \n",
       "5  15616748    645         Рыбинск      М   44        8 113,755.78         2   \n",
       "6  15635267    822       Ярославль      М   50        7        NaN         2   \n",
       "7  15698884    376  Ростов Великий      Ж   29        4 115,046.74         4   \n",
       "8  15835101    501       Ярославль      М   44        4 142,051.07         2   \n",
       "9  15635125    684       Ярославль      М   27        2 134,603.88         1   \n",
       "\n",
       "   CreditCard  Loyalty  estimated_salary  Churn  \n",
       "0           1        1        101,348.88      1  \n",
       "1           0        1        112,542.58      0  \n",
       "2           1        0        113,931.57      1  \n",
       "3           0        0         93,826.63      0  \n",
       "4           1        1         79,084.10      0  \n",
       "5           1        0        149,756.71      1  \n",
       "6           1        1         10,062.80      0  \n",
       "7           1        0        119,346.88      1  \n",
       "8           0        1         74,940.50      0  \n",
       "9           1        1         71,725.73      0  "
      ]
     },
     "execution_count": 80,
     "metadata": {},
     "output_type": "execute_result"
    }
   ],
   "source": [
    "try:\n",
    "    df = pd.read_csv('/datasets/bank_dataset.csv')\n",
    "except FileNotFoundError as e:\n",
    "    print(e)\n",
    "    df = pd.read_csv('C:\\\\Users\\\\sofya\\\\OneDrive\\\\Рабочий стол\\\\PyScripts\\\\датасеты\\\\bank_dataset.csv')\n",
    "df.head(10)"
   ]
  },
  {
   "cell_type": "code",
   "execution_count": 81,
   "metadata": {},
   "outputs": [
    {
     "data": {
      "text/html": [
       "<div>\n",
       "<style scoped>\n",
       "    .dataframe tbody tr th:only-of-type {\n",
       "        vertical-align: middle;\n",
       "    }\n",
       "\n",
       "    .dataframe tbody tr th {\n",
       "        vertical-align: top;\n",
       "    }\n",
       "\n",
       "    .dataframe thead th {\n",
       "        text-align: right;\n",
       "    }\n",
       "</style>\n",
       "<table border=\"1\" class=\"dataframe\">\n",
       "  <thead>\n",
       "    <tr style=\"text-align: right;\">\n",
       "      <th></th>\n",
       "      <th>userid</th>\n",
       "      <th>score</th>\n",
       "      <th>Age</th>\n",
       "      <th>Objects</th>\n",
       "      <th>Balance</th>\n",
       "      <th>Products</th>\n",
       "      <th>CreditCard</th>\n",
       "      <th>Loyalty</th>\n",
       "      <th>estimated_salary</th>\n",
       "      <th>Churn</th>\n",
       "    </tr>\n",
       "  </thead>\n",
       "  <tbody>\n",
       "    <tr>\n",
       "      <th>count</th>\n",
       "      <td>10,000.00</td>\n",
       "      <td>10,000.00</td>\n",
       "      <td>10,000.00</td>\n",
       "      <td>10,000.00</td>\n",
       "      <td>6,383.00</td>\n",
       "      <td>10,000.00</td>\n",
       "      <td>10,000.00</td>\n",
       "      <td>10,000.00</td>\n",
       "      <td>10,000.00</td>\n",
       "      <td>10,000.00</td>\n",
       "    </tr>\n",
       "    <tr>\n",
       "      <th>mean</th>\n",
       "      <td>15,733,676.57</td>\n",
       "      <td>650.53</td>\n",
       "      <td>38.92</td>\n",
       "      <td>5.01</td>\n",
       "      <td>119,827.49</td>\n",
       "      <td>1.53</td>\n",
       "      <td>0.71</td>\n",
       "      <td>0.52</td>\n",
       "      <td>100,090.24</td>\n",
       "      <td>0.20</td>\n",
       "    </tr>\n",
       "    <tr>\n",
       "      <th>std</th>\n",
       "      <td>71,936.19</td>\n",
       "      <td>96.65</td>\n",
       "      <td>10.49</td>\n",
       "      <td>2.89</td>\n",
       "      <td>30,095.06</td>\n",
       "      <td>0.58</td>\n",
       "      <td>0.46</td>\n",
       "      <td>0.50</td>\n",
       "      <td>57,510.49</td>\n",
       "      <td>0.40</td>\n",
       "    </tr>\n",
       "    <tr>\n",
       "      <th>min</th>\n",
       "      <td>15,608,437.00</td>\n",
       "      <td>350.00</td>\n",
       "      <td>18.00</td>\n",
       "      <td>0.00</td>\n",
       "      <td>3,768.69</td>\n",
       "      <td>1.00</td>\n",
       "      <td>0.00</td>\n",
       "      <td>0.00</td>\n",
       "      <td>11.58</td>\n",
       "      <td>0.00</td>\n",
       "    </tr>\n",
       "    <tr>\n",
       "      <th>25%</th>\n",
       "      <td>15,671,264.25</td>\n",
       "      <td>584.00</td>\n",
       "      <td>32.00</td>\n",
       "      <td>3.00</td>\n",
       "      <td>100,181.98</td>\n",
       "      <td>1.00</td>\n",
       "      <td>0.00</td>\n",
       "      <td>0.00</td>\n",
       "      <td>51,002.11</td>\n",
       "      <td>0.00</td>\n",
       "    </tr>\n",
       "    <tr>\n",
       "      <th>50%</th>\n",
       "      <td>15,733,474.00</td>\n",
       "      <td>652.00</td>\n",
       "      <td>37.00</td>\n",
       "      <td>5.00</td>\n",
       "      <td>119,839.69</td>\n",
       "      <td>1.00</td>\n",
       "      <td>1.00</td>\n",
       "      <td>1.00</td>\n",
       "      <td>100,193.91</td>\n",
       "      <td>0.00</td>\n",
       "    </tr>\n",
       "    <tr>\n",
       "      <th>75%</th>\n",
       "      <td>15,795,969.75</td>\n",
       "      <td>718.00</td>\n",
       "      <td>44.00</td>\n",
       "      <td>7.00</td>\n",
       "      <td>139,512.29</td>\n",
       "      <td>2.00</td>\n",
       "      <td>1.00</td>\n",
       "      <td>1.00</td>\n",
       "      <td>149,388.25</td>\n",
       "      <td>0.00</td>\n",
       "    </tr>\n",
       "    <tr>\n",
       "      <th>max</th>\n",
       "      <td>15,858,426.00</td>\n",
       "      <td>850.00</td>\n",
       "      <td>92.00</td>\n",
       "      <td>10.00</td>\n",
       "      <td>250,898.09</td>\n",
       "      <td>4.00</td>\n",
       "      <td>1.00</td>\n",
       "      <td>1.00</td>\n",
       "      <td>199,992.48</td>\n",
       "      <td>1.00</td>\n",
       "    </tr>\n",
       "  </tbody>\n",
       "</table>\n",
       "</div>"
      ],
      "text/plain": [
       "             userid     score       Age   Objects    Balance  Products  \\\n",
       "count     10,000.00 10,000.00 10,000.00 10,000.00   6,383.00 10,000.00   \n",
       "mean  15,733,676.57    650.53     38.92      5.01 119,827.49      1.53   \n",
       "std       71,936.19     96.65     10.49      2.89  30,095.06      0.58   \n",
       "min   15,608,437.00    350.00     18.00      0.00   3,768.69      1.00   \n",
       "25%   15,671,264.25    584.00     32.00      3.00 100,181.98      1.00   \n",
       "50%   15,733,474.00    652.00     37.00      5.00 119,839.69      1.00   \n",
       "75%   15,795,969.75    718.00     44.00      7.00 139,512.29      2.00   \n",
       "max   15,858,426.00    850.00     92.00     10.00 250,898.09      4.00   \n",
       "\n",
       "       CreditCard   Loyalty  estimated_salary     Churn  \n",
       "count   10,000.00 10,000.00         10,000.00 10,000.00  \n",
       "mean         0.71      0.52        100,090.24      0.20  \n",
       "std          0.46      0.50         57,510.49      0.40  \n",
       "min          0.00      0.00             11.58      0.00  \n",
       "25%          0.00      0.00         51,002.11      0.00  \n",
       "50%          1.00      1.00        100,193.91      0.00  \n",
       "75%          1.00      1.00        149,388.25      0.00  \n",
       "max          1.00      1.00        199,992.48      1.00  "
      ]
     },
     "execution_count": 81,
     "metadata": {},
     "output_type": "execute_result"
    }
   ],
   "source": [
    "df.describe()"
   ]
  },
  {
   "cell_type": "code",
   "execution_count": 82,
   "metadata": {},
   "outputs": [
    {
     "name": "stdout",
     "output_type": "stream",
     "text": [
      "<class 'pandas.core.frame.DataFrame'>\n",
      "RangeIndex: 10000 entries, 0 to 9999\n",
      "Data columns (total 12 columns):\n",
      " #   Column            Non-Null Count  Dtype  \n",
      "---  ------            --------------  -----  \n",
      " 0   userid            10000 non-null  int64  \n",
      " 1   score             10000 non-null  int64  \n",
      " 2   City              10000 non-null  object \n",
      " 3   Gender            10000 non-null  object \n",
      " 4   Age               10000 non-null  int64  \n",
      " 5   Objects           10000 non-null  int64  \n",
      " 6   Balance           6383 non-null   float64\n",
      " 7   Products          10000 non-null  int64  \n",
      " 8   CreditCard        10000 non-null  int64  \n",
      " 9   Loyalty           10000 non-null  int64  \n",
      " 10  estimated_salary  10000 non-null  float64\n",
      " 11  Churn             10000 non-null  int64  \n",
      "dtypes: float64(2), int64(8), object(2)\n",
      "memory usage: 937.6+ KB\n"
     ]
    }
   ],
   "source": [
    "df.info()"
   ]
  },
  {
   "cell_type": "markdown",
   "metadata": {},
   "source": [
    "**Вывод** \n",
    "\n",
    "В датафрейме 10000 наблюдений. Представлены данные по пользователям банков: город проживания, пол, возраст, баланс, количество используемых продуктов, баллы кредитного скоринга, оцененная зароботная плата, наличие кредитной карты, активность и факт оттока. \n",
    "\n",
    "На первый взгляд данных достаточно для решения задачи. \n",
    "\n",
    "Типы данных адекватные, распределение в данных адекватное. \n",
    "\n",
    "Настораживает минимальная зароботная плата (11 против медианного 100193). Проверка распределения на адекватность осложняется тем, что мы не знаем наверняка валюту, в которой представлена зарплата. Учитывая географию и распределение зарплат у большинства похоже, что зарплата указана в рублях. В предобработке данных исследуем низкую зароботную плату подробнее.\n",
    "\n",
    "Обнаружены пропуски в графе `Balance`. Необходимо исследовать пропуски и принять решение о целесообразности замены. \n",
    "\n",
    "Необходимо привести названия столбцов к змеиному регистру. "
   ]
  },
  {
   "cell_type": "markdown",
   "metadata": {},
   "source": [
    "## Предобработка данных\n",
    "Приведем в порядок названия столбцов."
   ]
  },
  {
   "cell_type": "code",
   "execution_count": 83,
   "metadata": {},
   "outputs": [
    {
     "data": {
      "text/html": [
       "<div>\n",
       "<style scoped>\n",
       "    .dataframe tbody tr th:only-of-type {\n",
       "        vertical-align: middle;\n",
       "    }\n",
       "\n",
       "    .dataframe tbody tr th {\n",
       "        vertical-align: top;\n",
       "    }\n",
       "\n",
       "    .dataframe thead th {\n",
       "        text-align: right;\n",
       "    }\n",
       "</style>\n",
       "<table border=\"1\" class=\"dataframe\">\n",
       "  <thead>\n",
       "    <tr style=\"text-align: right;\">\n",
       "      <th></th>\n",
       "      <th>user_id</th>\n",
       "      <th>score</th>\n",
       "      <th>city</th>\n",
       "      <th>gender</th>\n",
       "      <th>age</th>\n",
       "      <th>objects</th>\n",
       "      <th>balance</th>\n",
       "      <th>products</th>\n",
       "      <th>credit_card</th>\n",
       "      <th>loyalty</th>\n",
       "      <th>estimated_salary</th>\n",
       "      <th>churn</th>\n",
       "    </tr>\n",
       "  </thead>\n",
       "  <tbody>\n",
       "    <tr>\n",
       "      <th>0</th>\n",
       "      <td>15677338</td>\n",
       "      <td>619</td>\n",
       "      <td>Ярославль</td>\n",
       "      <td>Ж</td>\n",
       "      <td>42</td>\n",
       "      <td>2</td>\n",
       "      <td>NaN</td>\n",
       "      <td>1</td>\n",
       "      <td>1</td>\n",
       "      <td>1</td>\n",
       "      <td>101,348.88</td>\n",
       "      <td>1</td>\n",
       "    </tr>\n",
       "    <tr>\n",
       "      <th>1</th>\n",
       "      <td>15690047</td>\n",
       "      <td>608</td>\n",
       "      <td>Рыбинск</td>\n",
       "      <td>Ж</td>\n",
       "      <td>41</td>\n",
       "      <td>1</td>\n",
       "      <td>83,807.86</td>\n",
       "      <td>1</td>\n",
       "      <td>0</td>\n",
       "      <td>1</td>\n",
       "      <td>112,542.58</td>\n",
       "      <td>0</td>\n",
       "    </tr>\n",
       "    <tr>\n",
       "      <th>2</th>\n",
       "      <td>15662040</td>\n",
       "      <td>502</td>\n",
       "      <td>Ярославль</td>\n",
       "      <td>Ж</td>\n",
       "      <td>42</td>\n",
       "      <td>8</td>\n",
       "      <td>159,660.80</td>\n",
       "      <td>3</td>\n",
       "      <td>1</td>\n",
       "      <td>0</td>\n",
       "      <td>113,931.57</td>\n",
       "      <td>1</td>\n",
       "    </tr>\n",
       "    <tr>\n",
       "      <th>3</th>\n",
       "      <td>15744090</td>\n",
       "      <td>699</td>\n",
       "      <td>Ярославль</td>\n",
       "      <td>Ж</td>\n",
       "      <td>39</td>\n",
       "      <td>1</td>\n",
       "      <td>NaN</td>\n",
       "      <td>2</td>\n",
       "      <td>0</td>\n",
       "      <td>0</td>\n",
       "      <td>93,826.63</td>\n",
       "      <td>0</td>\n",
       "    </tr>\n",
       "    <tr>\n",
       "      <th>4</th>\n",
       "      <td>15780624</td>\n",
       "      <td>850</td>\n",
       "      <td>Рыбинск</td>\n",
       "      <td>Ж</td>\n",
       "      <td>43</td>\n",
       "      <td>2</td>\n",
       "      <td>125,510.82</td>\n",
       "      <td>1</td>\n",
       "      <td>1</td>\n",
       "      <td>1</td>\n",
       "      <td>79,084.10</td>\n",
       "      <td>0</td>\n",
       "    </tr>\n",
       "  </tbody>\n",
       "</table>\n",
       "</div>"
      ],
      "text/plain": [
       "    user_id  score       city gender  age  objects    balance  products  \\\n",
       "0  15677338    619  Ярославль      Ж   42        2        NaN         1   \n",
       "1  15690047    608    Рыбинск      Ж   41        1  83,807.86         1   \n",
       "2  15662040    502  Ярославль      Ж   42        8 159,660.80         3   \n",
       "3  15744090    699  Ярославль      Ж   39        1        NaN         2   \n",
       "4  15780624    850    Рыбинск      Ж   43        2 125,510.82         1   \n",
       "\n",
       "   credit_card  loyalty  estimated_salary  churn  \n",
       "0            1        1        101,348.88      1  \n",
       "1            0        1        112,542.58      0  \n",
       "2            1        0        113,931.57      1  \n",
       "3            0        0         93,826.63      0  \n",
       "4            1        1         79,084.10      0  "
      ]
     },
     "execution_count": 83,
     "metadata": {},
     "output_type": "execute_result"
    }
   ],
   "source": [
    "df.columns = df.columns.str.lower()\n",
    "df.rename(columns = {'userid':'user_id', 'creditcard':'credit_card'}, inplace = True)\n",
    "df.head()"
   ]
  },
  {
   "cell_type": "markdown",
   "metadata": {},
   "source": [
    "Проверим количество уникальных пользователей"
   ]
  },
  {
   "cell_type": "code",
   "execution_count": 84,
   "metadata": {},
   "outputs": [
    {
     "data": {
      "text/plain": [
       "10000"
      ]
     },
     "execution_count": 84,
     "metadata": {},
     "output_type": "execute_result"
    }
   ],
   "source": [
    "df['user_id'].nunique()"
   ]
  },
  {
   "cell_type": "markdown",
   "metadata": {},
   "source": [
    "Каждая строка - уникальный пользователь. \n",
    "\n",
    "Проверим уникальные названия городов."
   ]
  },
  {
   "cell_type": "code",
   "execution_count": 85,
   "metadata": {},
   "outputs": [
    {
     "data": {
      "text/plain": [
       "array(['Ярославль', 'Рыбинск', 'Ростов Великий'], dtype=object)"
      ]
     },
     "execution_count": 85,
     "metadata": {},
     "output_type": "execute_result"
    }
   ],
   "source": [
    "df['city'].unique()"
   ]
  },
  {
   "cell_type": "markdown",
   "metadata": {},
   "source": [
    "Три города, всё в порядке. \n",
    "\n",
    "Посмотрим на возраст. "
   ]
  },
  {
   "cell_type": "code",
   "execution_count": 86,
   "metadata": {},
   "outputs": [
    {
     "name": "stdout",
     "output_type": "stream",
     "text": [
      "Минимальный возраст: 18\n",
      "Максимальный возраст: 92\n"
     ]
    }
   ],
   "source": [
    "print('Минимальный возраст:', df['age'].min())\n",
    "print('Максимальный возраст:', df['age'].max())"
   ]
  },
  {
   "cell_type": "markdown",
   "metadata": {},
   "source": [
    "Возраст в адекватных пределах. \n",
    "\n",
    "Проверим зароботную плату. "
   ]
  },
  {
   "cell_type": "code",
   "execution_count": 87,
   "metadata": {},
   "outputs": [
    {
     "data": {
      "text/plain": [
       "count    10,000.00\n",
       "mean    100,090.24\n",
       "std      57,510.49\n",
       "min          11.58\n",
       "25%      51,002.11\n",
       "50%     100,193.91\n",
       "75%     149,388.25\n",
       "max     199,992.48\n",
       "Name: estimated_salary, dtype: float64"
      ]
     },
     "execution_count": 87,
     "metadata": {},
     "output_type": "execute_result"
    }
   ],
   "source": [
    "\n",
    "df['estimated_salary'].describe()"
   ]
  },
  {
   "cell_type": "markdown",
   "metadata": {},
   "source": [
    "Минимальная зароботная плата настроаживает. Важно отметить, что представлена оцененная зароботная плата, т.е. если у клиента нет зарплатной карты в данном банке то данные в этой графе могут не соответствовать действительности. \n",
    "\n",
    "Предположим, что заоботная плата представлена в рублях (или в близкой валюте), по общему распределению это предположение кажется адекватным. \n",
    "\n",
    "Посмотрим внимательнее на клиентов с маленькой зароботной платой. \n",
    "\n",
    "Минимальная зароботная плата в России 13890. \n",
    "\n",
    "Предположим что часть людей могут работать на пол ставки. Узнаем, сколько людей получают меньше 6945"
   ]
  },
  {
   "cell_type": "code",
   "execution_count": 88,
   "metadata": {},
   "outputs": [
    {
     "data": {
      "text/html": [
       "<div>\n",
       "<style scoped>\n",
       "    .dataframe tbody tr th:only-of-type {\n",
       "        vertical-align: middle;\n",
       "    }\n",
       "\n",
       "    .dataframe tbody tr th {\n",
       "        vertical-align: top;\n",
       "    }\n",
       "\n",
       "    .dataframe thead th {\n",
       "        text-align: right;\n",
       "    }\n",
       "</style>\n",
       "<table border=\"1\" class=\"dataframe\">\n",
       "  <thead>\n",
       "    <tr style=\"text-align: right;\">\n",
       "      <th></th>\n",
       "      <th>user_id</th>\n",
       "      <th>score</th>\n",
       "      <th>city</th>\n",
       "      <th>gender</th>\n",
       "      <th>age</th>\n",
       "      <th>objects</th>\n",
       "      <th>balance</th>\n",
       "      <th>products</th>\n",
       "      <th>credit_card</th>\n",
       "      <th>loyalty</th>\n",
       "      <th>estimated_salary</th>\n",
       "      <th>churn</th>\n",
       "    </tr>\n",
       "  </thead>\n",
       "  <tbody>\n",
       "    <tr>\n",
       "      <th>9863</th>\n",
       "      <td>15768915</td>\n",
       "      <td>757</td>\n",
       "      <td>Ростов Великий</td>\n",
       "      <td>Ж</td>\n",
       "      <td>43</td>\n",
       "      <td>5</td>\n",
       "      <td>131,433.33</td>\n",
       "      <td>2</td>\n",
       "      <td>1</td>\n",
       "      <td>1</td>\n",
       "      <td>3,497.43</td>\n",
       "      <td>1</td>\n",
       "    </tr>\n",
       "    <tr>\n",
       "      <th>1462</th>\n",
       "      <td>15608947</td>\n",
       "      <td>616</td>\n",
       "      <td>Ростов Великий</td>\n",
       "      <td>Ж</td>\n",
       "      <td>41</td>\n",
       "      <td>1</td>\n",
       "      <td>103,560.57</td>\n",
       "      <td>1</td>\n",
       "      <td>1</td>\n",
       "      <td>0</td>\n",
       "      <td>236.45</td>\n",
       "      <td>1</td>\n",
       "    </tr>\n",
       "    <tr>\n",
       "      <th>5264</th>\n",
       "      <td>15734553</td>\n",
       "      <td>547</td>\n",
       "      <td>Рыбинск</td>\n",
       "      <td>Ж</td>\n",
       "      <td>44</td>\n",
       "      <td>5</td>\n",
       "      <td>NaN</td>\n",
       "      <td>3</td>\n",
       "      <td>0</td>\n",
       "      <td>0</td>\n",
       "      <td>5,459.07</td>\n",
       "      <td>1</td>\n",
       "    </tr>\n",
       "    <tr>\n",
       "      <th>9206</th>\n",
       "      <td>15654503</td>\n",
       "      <td>624</td>\n",
       "      <td>Ростов Великий</td>\n",
       "      <td>Ж</td>\n",
       "      <td>52</td>\n",
       "      <td>0</td>\n",
       "      <td>133,723.43</td>\n",
       "      <td>1</td>\n",
       "      <td>0</td>\n",
       "      <td>0</td>\n",
       "      <td>4,859.59</td>\n",
       "      <td>1</td>\n",
       "    </tr>\n",
       "    <tr>\n",
       "      <th>7060</th>\n",
       "      <td>15637041</td>\n",
       "      <td>712</td>\n",
       "      <td>Ярославль</td>\n",
       "      <td>Ж</td>\n",
       "      <td>32</td>\n",
       "      <td>1</td>\n",
       "      <td>NaN</td>\n",
       "      <td>2</td>\n",
       "      <td>1</td>\n",
       "      <td>0</td>\n",
       "      <td>1,703.58</td>\n",
       "      <td>0</td>\n",
       "    </tr>\n",
       "    <tr>\n",
       "      <th>7046</th>\n",
       "      <td>15780363</td>\n",
       "      <td>589</td>\n",
       "      <td>Ростов Великий</td>\n",
       "      <td>Ж</td>\n",
       "      <td>20</td>\n",
       "      <td>2</td>\n",
       "      <td>121,093.29</td>\n",
       "      <td>2</td>\n",
       "      <td>1</td>\n",
       "      <td>0</td>\n",
       "      <td>3,529.72</td>\n",
       "      <td>0</td>\n",
       "    </tr>\n",
       "    <tr>\n",
       "      <th>8502</th>\n",
       "      <td>15617594</td>\n",
       "      <td>530</td>\n",
       "      <td>Ярославль</td>\n",
       "      <td>М</td>\n",
       "      <td>37</td>\n",
       "      <td>8</td>\n",
       "      <td>NaN</td>\n",
       "      <td>2</td>\n",
       "      <td>1</td>\n",
       "      <td>1</td>\n",
       "      <td>287.99</td>\n",
       "      <td>0</td>\n",
       "    </tr>\n",
       "    <tr>\n",
       "      <th>9340</th>\n",
       "      <td>15648540</td>\n",
       "      <td>737</td>\n",
       "      <td>Ярославль</td>\n",
       "      <td>М</td>\n",
       "      <td>45</td>\n",
       "      <td>10</td>\n",
       "      <td>NaN</td>\n",
       "      <td>2</td>\n",
       "      <td>1</td>\n",
       "      <td>0</td>\n",
       "      <td>1,364.54</td>\n",
       "      <td>0</td>\n",
       "    </tr>\n",
       "    <tr>\n",
       "      <th>8166</th>\n",
       "      <td>15812519</td>\n",
       "      <td>542</td>\n",
       "      <td>Рыбинск</td>\n",
       "      <td>М</td>\n",
       "      <td>37</td>\n",
       "      <td>8</td>\n",
       "      <td>NaN</td>\n",
       "      <td>1</td>\n",
       "      <td>1</td>\n",
       "      <td>1</td>\n",
       "      <td>807.06</td>\n",
       "      <td>0</td>\n",
       "    </tr>\n",
       "    <tr>\n",
       "      <th>9954</th>\n",
       "      <td>15782586</td>\n",
       "      <td>645</td>\n",
       "      <td>Ярославль</td>\n",
       "      <td>М</td>\n",
       "      <td>45</td>\n",
       "      <td>6</td>\n",
       "      <td>155,417.61</td>\n",
       "      <td>1</td>\n",
       "      <td>0</td>\n",
       "      <td>1</td>\n",
       "      <td>3,449.22</td>\n",
       "      <td>0</td>\n",
       "    </tr>\n",
       "  </tbody>\n",
       "</table>\n",
       "</div>"
      ],
      "text/plain": [
       "       user_id  score            city gender  age  objects    balance  \\\n",
       "9863  15768915    757  Ростов Великий      Ж   43        5 131,433.33   \n",
       "1462  15608947    616  Ростов Великий      Ж   41        1 103,560.57   \n",
       "5264  15734553    547         Рыбинск      Ж   44        5        NaN   \n",
       "9206  15654503    624  Ростов Великий      Ж   52        0 133,723.43   \n",
       "7060  15637041    712       Ярославль      Ж   32        1        NaN   \n",
       "7046  15780363    589  Ростов Великий      Ж   20        2 121,093.29   \n",
       "8502  15617594    530       Ярославль      М   37        8        NaN   \n",
       "9340  15648540    737       Ярославль      М   45       10        NaN   \n",
       "8166  15812519    542         Рыбинск      М   37        8        NaN   \n",
       "9954  15782586    645       Ярославль      М   45        6 155,417.61   \n",
       "\n",
       "      products  credit_card  loyalty  estimated_salary  churn  \n",
       "9863         2            1        1          3,497.43      1  \n",
       "1462         1            1        0            236.45      1  \n",
       "5264         3            0        0          5,459.07      1  \n",
       "9206         1            0        0          4,859.59      1  \n",
       "7060         2            1        0          1,703.58      0  \n",
       "7046         2            1        0          3,529.72      0  \n",
       "8502         2            1        1            287.99      0  \n",
       "9340         2            1        0          1,364.54      0  \n",
       "8166         1            1        1            807.06      0  \n",
       "9954         1            0        1          3,449.22      0  "
      ]
     },
     "execution_count": 88,
     "metadata": {},
     "output_type": "execute_result"
    }
   ],
   "source": [
    "df_salary = df[df['estimated_salary'] < 6945]\n",
    "df_salary.sample(10)"
   ]
  },
  {
   "cell_type": "code",
   "execution_count": 89,
   "metadata": {},
   "outputs": [
    {
     "data": {
      "text/plain": [
       "353"
      ]
     },
     "execution_count": 89,
     "metadata": {},
     "output_type": "execute_result"
    }
   ],
   "source": [
    "len(df_salary)"
   ]
  },
  {
   "cell_type": "code",
   "execution_count": 90,
   "metadata": {},
   "outputs": [
    {
     "data": {
      "text/html": [
       "<div>\n",
       "<style scoped>\n",
       "    .dataframe tbody tr th:only-of-type {\n",
       "        vertical-align: middle;\n",
       "    }\n",
       "\n",
       "    .dataframe tbody tr th {\n",
       "        vertical-align: top;\n",
       "    }\n",
       "\n",
       "    .dataframe thead th {\n",
       "        text-align: right;\n",
       "    }\n",
       "</style>\n",
       "<table border=\"1\" class=\"dataframe\">\n",
       "  <thead>\n",
       "    <tr style=\"text-align: right;\">\n",
       "      <th></th>\n",
       "      <th>user_id</th>\n",
       "      <th>score</th>\n",
       "      <th>age</th>\n",
       "      <th>objects</th>\n",
       "      <th>balance</th>\n",
       "      <th>products</th>\n",
       "      <th>credit_card</th>\n",
       "      <th>loyalty</th>\n",
       "      <th>estimated_salary</th>\n",
       "      <th>churn</th>\n",
       "    </tr>\n",
       "  </thead>\n",
       "  <tbody>\n",
       "    <tr>\n",
       "      <th>count</th>\n",
       "      <td>353.00</td>\n",
       "      <td>353.00</td>\n",
       "      <td>353.00</td>\n",
       "      <td>353.00</td>\n",
       "      <td>205.00</td>\n",
       "      <td>353.00</td>\n",
       "      <td>353.00</td>\n",
       "      <td>353.00</td>\n",
       "      <td>353.00</td>\n",
       "      <td>353.00</td>\n",
       "    </tr>\n",
       "    <tr>\n",
       "      <th>mean</th>\n",
       "      <td>15,727,505.70</td>\n",
       "      <td>649.32</td>\n",
       "      <td>38.55</td>\n",
       "      <td>4.80</td>\n",
       "      <td>118,289.04</td>\n",
       "      <td>1.54</td>\n",
       "      <td>0.66</td>\n",
       "      <td>0.52</td>\n",
       "      <td>3,365.54</td>\n",
       "      <td>0.20</td>\n",
       "    </tr>\n",
       "    <tr>\n",
       "      <th>std</th>\n",
       "      <td>73,749.39</td>\n",
       "      <td>99.23</td>\n",
       "      <td>10.37</td>\n",
       "      <td>2.89</td>\n",
       "      <td>28,195.17</td>\n",
       "      <td>0.56</td>\n",
       "      <td>0.48</td>\n",
       "      <td>0.50</td>\n",
       "      <td>1,985.48</td>\n",
       "      <td>0.40</td>\n",
       "    </tr>\n",
       "    <tr>\n",
       "      <th>min</th>\n",
       "      <td>15,608,947.00</td>\n",
       "      <td>413.00</td>\n",
       "      <td>18.00</td>\n",
       "      <td>0.00</td>\n",
       "      <td>27,517.15</td>\n",
       "      <td>1.00</td>\n",
       "      <td>0.00</td>\n",
       "      <td>0.00</td>\n",
       "      <td>11.58</td>\n",
       "      <td>0.00</td>\n",
       "    </tr>\n",
       "    <tr>\n",
       "      <th>25%</th>\n",
       "      <td>15,662,671.00</td>\n",
       "      <td>583.00</td>\n",
       "      <td>31.00</td>\n",
       "      <td>2.00</td>\n",
       "      <td>99,441.21</td>\n",
       "      <td>1.00</td>\n",
       "      <td>0.00</td>\n",
       "      <td>0.00</td>\n",
       "      <td>1,568.91</td>\n",
       "      <td>0.00</td>\n",
       "    </tr>\n",
       "    <tr>\n",
       "      <th>50%</th>\n",
       "      <td>15,724,286.00</td>\n",
       "      <td>648.00</td>\n",
       "      <td>37.00</td>\n",
       "      <td>5.00</td>\n",
       "      <td>117,833.30</td>\n",
       "      <td>2.00</td>\n",
       "      <td>1.00</td>\n",
       "      <td>1.00</td>\n",
       "      <td>3,414.72</td>\n",
       "      <td>0.00</td>\n",
       "    </tr>\n",
       "    <tr>\n",
       "      <th>75%</th>\n",
       "      <td>15,790,493.00</td>\n",
       "      <td>712.00</td>\n",
       "      <td>44.00</td>\n",
       "      <td>7.00</td>\n",
       "      <td>134,985.66</td>\n",
       "      <td>2.00</td>\n",
       "      <td>1.00</td>\n",
       "      <td>1.00</td>\n",
       "      <td>5,008.23</td>\n",
       "      <td>0.00</td>\n",
       "    </tr>\n",
       "    <tr>\n",
       "      <th>max</th>\n",
       "      <td>15,856,396.00</td>\n",
       "      <td>850.00</td>\n",
       "      <td>77.00</td>\n",
       "      <td>10.00</td>\n",
       "      <td>204,510.94</td>\n",
       "      <td>4.00</td>\n",
       "      <td>1.00</td>\n",
       "      <td>1.00</td>\n",
       "      <td>6,936.27</td>\n",
       "      <td>1.00</td>\n",
       "    </tr>\n",
       "  </tbody>\n",
       "</table>\n",
       "</div>"
      ],
      "text/plain": [
       "            user_id  score    age  objects    balance  products  credit_card  \\\n",
       "count        353.00 353.00 353.00   353.00     205.00    353.00       353.00   \n",
       "mean  15,727,505.70 649.32  38.55     4.80 118,289.04      1.54         0.66   \n",
       "std       73,749.39  99.23  10.37     2.89  28,195.17      0.56         0.48   \n",
       "min   15,608,947.00 413.00  18.00     0.00  27,517.15      1.00         0.00   \n",
       "25%   15,662,671.00 583.00  31.00     2.00  99,441.21      1.00         0.00   \n",
       "50%   15,724,286.00 648.00  37.00     5.00 117,833.30      2.00         1.00   \n",
       "75%   15,790,493.00 712.00  44.00     7.00 134,985.66      2.00         1.00   \n",
       "max   15,856,396.00 850.00  77.00    10.00 204,510.94      4.00         1.00   \n",
       "\n",
       "       loyalty  estimated_salary  churn  \n",
       "count   353.00            353.00 353.00  \n",
       "mean      0.52          3,365.54   0.20  \n",
       "std       0.50          1,985.48   0.40  \n",
       "min       0.00             11.58   0.00  \n",
       "25%       0.00          1,568.91   0.00  \n",
       "50%       1.00          3,414.72   0.00  \n",
       "75%       1.00          5,008.23   0.00  \n",
       "max       1.00          6,936.27   1.00  "
      ]
     },
     "execution_count": 90,
     "metadata": {},
     "output_type": "execute_result"
    }
   ],
   "source": [
    "df_salary.describe()"
   ]
  },
  {
   "cell_type": "markdown",
   "metadata": {},
   "source": [
    "Клиентов с маленькой зароботной платой не слишком много (353) и по основным показателям (таким как возраст, баланс, количество объектов в собственности или баллы кредитного скоринга) они не отличаются от основной выборки. Нет оснований исключить из основной выборки или не доверять данным. "
   ]
  },
  {
   "cell_type": "markdown",
   "metadata": {},
   "source": [
    "Посмотрим на пропущеные значения в графе `баланс`"
   ]
  },
  {
   "cell_type": "code",
   "execution_count": 91,
   "metadata": {},
   "outputs": [
    {
     "data": {
      "text/plain": [
       "3617"
      ]
     },
     "execution_count": 91,
     "metadata": {},
     "output_type": "execute_result"
    }
   ],
   "source": [
    "df['balance'].isna().sum()"
   ]
  },
  {
   "cell_type": "markdown",
   "metadata": {},
   "source": [
    "У трети клиентов пропуск в графе с болансом. Посмотрим, что это за клиенты. "
   ]
  },
  {
   "cell_type": "code",
   "execution_count": 92,
   "metadata": {},
   "outputs": [
    {
     "data": {
      "text/html": [
       "<div>\n",
       "<style scoped>\n",
       "    .dataframe tbody tr th:only-of-type {\n",
       "        vertical-align: middle;\n",
       "    }\n",
       "\n",
       "    .dataframe tbody tr th {\n",
       "        vertical-align: top;\n",
       "    }\n",
       "\n",
       "    .dataframe thead th {\n",
       "        text-align: right;\n",
       "    }\n",
       "</style>\n",
       "<table border=\"1\" class=\"dataframe\">\n",
       "  <thead>\n",
       "    <tr style=\"text-align: right;\">\n",
       "      <th></th>\n",
       "      <th>user_id</th>\n",
       "      <th>score</th>\n",
       "      <th>city</th>\n",
       "      <th>gender</th>\n",
       "      <th>age</th>\n",
       "      <th>objects</th>\n",
       "      <th>balance</th>\n",
       "      <th>products</th>\n",
       "      <th>credit_card</th>\n",
       "      <th>loyalty</th>\n",
       "      <th>estimated_salary</th>\n",
       "      <th>churn</th>\n",
       "    </tr>\n",
       "  </thead>\n",
       "  <tbody>\n",
       "    <tr>\n",
       "      <th>0</th>\n",
       "      <td>15677338</td>\n",
       "      <td>619</td>\n",
       "      <td>Ярославль</td>\n",
       "      <td>Ж</td>\n",
       "      <td>42</td>\n",
       "      <td>2</td>\n",
       "      <td>NaN</td>\n",
       "      <td>1</td>\n",
       "      <td>1</td>\n",
       "      <td>1</td>\n",
       "      <td>101,348.88</td>\n",
       "      <td>1</td>\n",
       "    </tr>\n",
       "    <tr>\n",
       "      <th>3</th>\n",
       "      <td>15744090</td>\n",
       "      <td>699</td>\n",
       "      <td>Ярославль</td>\n",
       "      <td>Ж</td>\n",
       "      <td>39</td>\n",
       "      <td>1</td>\n",
       "      <td>NaN</td>\n",
       "      <td>2</td>\n",
       "      <td>0</td>\n",
       "      <td>0</td>\n",
       "      <td>93,826.63</td>\n",
       "      <td>0</td>\n",
       "    </tr>\n",
       "    <tr>\n",
       "      <th>6</th>\n",
       "      <td>15635267</td>\n",
       "      <td>822</td>\n",
       "      <td>Ярославль</td>\n",
       "      <td>М</td>\n",
       "      <td>50</td>\n",
       "      <td>7</td>\n",
       "      <td>NaN</td>\n",
       "      <td>2</td>\n",
       "      <td>1</td>\n",
       "      <td>1</td>\n",
       "      <td>10,062.80</td>\n",
       "      <td>0</td>\n",
       "    </tr>\n",
       "    <tr>\n",
       "      <th>11</th>\n",
       "      <td>15779909</td>\n",
       "      <td>497</td>\n",
       "      <td>Рыбинск</td>\n",
       "      <td>М</td>\n",
       "      <td>24</td>\n",
       "      <td>3</td>\n",
       "      <td>NaN</td>\n",
       "      <td>2</td>\n",
       "      <td>1</td>\n",
       "      <td>0</td>\n",
       "      <td>76,390.01</td>\n",
       "      <td>0</td>\n",
       "    </tr>\n",
       "    <tr>\n",
       "      <th>12</th>\n",
       "      <td>15675000</td>\n",
       "      <td>476</td>\n",
       "      <td>Ярославль</td>\n",
       "      <td>Ж</td>\n",
       "      <td>34</td>\n",
       "      <td>10</td>\n",
       "      <td>NaN</td>\n",
       "      <td>2</td>\n",
       "      <td>1</td>\n",
       "      <td>0</td>\n",
       "      <td>26,260.98</td>\n",
       "      <td>0</td>\n",
       "    </tr>\n",
       "  </tbody>\n",
       "</table>\n",
       "</div>"
      ],
      "text/plain": [
       "     user_id  score       city gender  age  objects  balance  products  \\\n",
       "0   15677338    619  Ярославль      Ж   42        2      NaN         1   \n",
       "3   15744090    699  Ярославль      Ж   39        1      NaN         2   \n",
       "6   15635267    822  Ярославль      М   50        7      NaN         2   \n",
       "11  15779909    497    Рыбинск      М   24        3      NaN         2   \n",
       "12  15675000    476  Ярославль      Ж   34       10      NaN         2   \n",
       "\n",
       "    credit_card  loyalty  estimated_salary  churn  \n",
       "0             1        1        101,348.88      1  \n",
       "3             0        0         93,826.63      0  \n",
       "6             1        1         10,062.80      0  \n",
       "11            1        0         76,390.01      0  \n",
       "12            1        0         26,260.98      0  "
      ]
     },
     "execution_count": 92,
     "metadata": {},
     "output_type": "execute_result"
    }
   ],
   "source": [
    "null_data = df[pd.isnull(df [\"balance\"])]\n",
    "null_data.head()"
   ]
  },
  {
   "cell_type": "code",
   "execution_count": 93,
   "metadata": {},
   "outputs": [
    {
     "data": {
      "text/plain": [
       "3617"
      ]
     },
     "execution_count": 93,
     "metadata": {},
     "output_type": "execute_result"
    }
   ],
   "source": [
    "len(null_data)"
   ]
  },
  {
   "cell_type": "code",
   "execution_count": 94,
   "metadata": {},
   "outputs": [
    {
     "data": {
      "text/html": [
       "<div>\n",
       "<style scoped>\n",
       "    .dataframe tbody tr th:only-of-type {\n",
       "        vertical-align: middle;\n",
       "    }\n",
       "\n",
       "    .dataframe tbody tr th {\n",
       "        vertical-align: top;\n",
       "    }\n",
       "\n",
       "    .dataframe thead th {\n",
       "        text-align: right;\n",
       "    }\n",
       "</style>\n",
       "<table border=\"1\" class=\"dataframe\">\n",
       "  <thead>\n",
       "    <tr style=\"text-align: right;\">\n",
       "      <th></th>\n",
       "      <th>user_id</th>\n",
       "      <th>score</th>\n",
       "      <th>age</th>\n",
       "      <th>objects</th>\n",
       "      <th>balance</th>\n",
       "      <th>products</th>\n",
       "      <th>credit_card</th>\n",
       "      <th>loyalty</th>\n",
       "      <th>estimated_salary</th>\n",
       "      <th>churn</th>\n",
       "    </tr>\n",
       "  </thead>\n",
       "  <tbody>\n",
       "    <tr>\n",
       "      <th>count</th>\n",
       "      <td>3,617.00</td>\n",
       "      <td>3,617.00</td>\n",
       "      <td>3,617.00</td>\n",
       "      <td>3,617.00</td>\n",
       "      <td>0.00</td>\n",
       "      <td>3,617.00</td>\n",
       "      <td>3,617.00</td>\n",
       "      <td>3,617.00</td>\n",
       "      <td>3,617.00</td>\n",
       "      <td>3,617.00</td>\n",
       "    </tr>\n",
       "    <tr>\n",
       "      <th>mean</th>\n",
       "      <td>15,734,685.59</td>\n",
       "      <td>649.45</td>\n",
       "      <td>38.43</td>\n",
       "      <td>5.07</td>\n",
       "      <td>NaN</td>\n",
       "      <td>1.78</td>\n",
       "      <td>0.72</td>\n",
       "      <td>0.52</td>\n",
       "      <td>98,983.56</td>\n",
       "      <td>0.14</td>\n",
       "    </tr>\n",
       "    <tr>\n",
       "      <th>std</th>\n",
       "      <td>71,947.49</td>\n",
       "      <td>96.16</td>\n",
       "      <td>10.49</td>\n",
       "      <td>2.86</td>\n",
       "      <td>NaN</td>\n",
       "      <td>0.50</td>\n",
       "      <td>0.45</td>\n",
       "      <td>0.50</td>\n",
       "      <td>57,730.83</td>\n",
       "      <td>0.35</td>\n",
       "    </tr>\n",
       "    <tr>\n",
       "      <th>min</th>\n",
       "      <td>15,608,442.00</td>\n",
       "      <td>350.00</td>\n",
       "      <td>18.00</td>\n",
       "      <td>0.00</td>\n",
       "      <td>NaN</td>\n",
       "      <td>1.00</td>\n",
       "      <td>0.00</td>\n",
       "      <td>0.00</td>\n",
       "      <td>90.07</td>\n",
       "      <td>0.00</td>\n",
       "    </tr>\n",
       "    <tr>\n",
       "      <th>25%</th>\n",
       "      <td>15,672,255.00</td>\n",
       "      <td>583.00</td>\n",
       "      <td>31.00</td>\n",
       "      <td>3.00</td>\n",
       "      <td>NaN</td>\n",
       "      <td>1.00</td>\n",
       "      <td>0.00</td>\n",
       "      <td>0.00</td>\n",
       "      <td>49,506.82</td>\n",
       "      <td>0.00</td>\n",
       "    </tr>\n",
       "    <tr>\n",
       "      <th>50%</th>\n",
       "      <td>15,736,083.00</td>\n",
       "      <td>651.00</td>\n",
       "      <td>37.00</td>\n",
       "      <td>5.00</td>\n",
       "      <td>NaN</td>\n",
       "      <td>2.00</td>\n",
       "      <td>1.00</td>\n",
       "      <td>1.00</td>\n",
       "      <td>98,618.79</td>\n",
       "      <td>0.00</td>\n",
       "    </tr>\n",
       "    <tr>\n",
       "      <th>75%</th>\n",
       "      <td>15,796,286.00</td>\n",
       "      <td>717.00</td>\n",
       "      <td>43.00</td>\n",
       "      <td>7.00</td>\n",
       "      <td>NaN</td>\n",
       "      <td>2.00</td>\n",
       "      <td>1.00</td>\n",
       "      <td>1.00</td>\n",
       "      <td>148,330.97</td>\n",
       "      <td>0.00</td>\n",
       "    </tr>\n",
       "    <tr>\n",
       "      <th>max</th>\n",
       "      <td>15,858,100.00</td>\n",
       "      <td>850.00</td>\n",
       "      <td>88.00</td>\n",
       "      <td>10.00</td>\n",
       "      <td>NaN</td>\n",
       "      <td>4.00</td>\n",
       "      <td>1.00</td>\n",
       "      <td>1.00</td>\n",
       "      <td>199,992.48</td>\n",
       "      <td>1.00</td>\n",
       "    </tr>\n",
       "  </tbody>\n",
       "</table>\n",
       "</div>"
      ],
      "text/plain": [
       "            user_id    score      age  objects  balance  products  \\\n",
       "count      3,617.00 3,617.00 3,617.00 3,617.00     0.00  3,617.00   \n",
       "mean  15,734,685.59   649.45    38.43     5.07      NaN      1.78   \n",
       "std       71,947.49    96.16    10.49     2.86      NaN      0.50   \n",
       "min   15,608,442.00   350.00    18.00     0.00      NaN      1.00   \n",
       "25%   15,672,255.00   583.00    31.00     3.00      NaN      1.00   \n",
       "50%   15,736,083.00   651.00    37.00     5.00      NaN      2.00   \n",
       "75%   15,796,286.00   717.00    43.00     7.00      NaN      2.00   \n",
       "max   15,858,100.00   850.00    88.00    10.00      NaN      4.00   \n",
       "\n",
       "       credit_card  loyalty  estimated_salary    churn  \n",
       "count     3,617.00 3,617.00          3,617.00 3,617.00  \n",
       "mean          0.72     0.52         98,983.56     0.14  \n",
       "std           0.45     0.50         57,730.83     0.35  \n",
       "min           0.00     0.00             90.07     0.00  \n",
       "25%           0.00     0.00         49,506.82     0.00  \n",
       "50%           1.00     1.00         98,618.79     0.00  \n",
       "75%           1.00     1.00        148,330.97     0.00  \n",
       "max           1.00     1.00        199,992.48     1.00  "
      ]
     },
     "execution_count": 94,
     "metadata": {},
     "output_type": "execute_result"
    }
   ],
   "source": [
    "null_data.describe()"
   ]
  },
  {
   "cell_type": "markdown",
   "metadata": {},
   "source": [
    "Распределение признаков у клиентов с пропущенными значениями в гафе баланс такое же, как у генеральной совокупности, какого-то отличающего признака не обнаружено. Можно предположить, что в случае отсутствия у клиента дебетовой карты система оставляет в графе с балансом пропущенное значение. \n",
    "\n",
    "Пропущенные значения могут быть препятствием для дальнейшей корректной работы. Заменим пропущенные значения на 0. Предварительно проверим, нет ли в базе людей с нулевым балансом, чтобы в дальнейшем быть уверенными 0 только в ячейках с пропущенным значением. "
   ]
  },
  {
   "cell_type": "code",
   "execution_count": 95,
   "metadata": {},
   "outputs": [
    {
     "data": {
      "text/plain": [
       "0"
      ]
     },
     "execution_count": 95,
     "metadata": {},
     "output_type": "execute_result"
    }
   ],
   "source": [
    "len(df[df['balance'] == 0])"
   ]
  },
  {
   "cell_type": "code",
   "execution_count": 96,
   "metadata": {},
   "outputs": [
    {
     "data": {
      "text/plain": [
       "0"
      ]
     },
     "execution_count": 96,
     "metadata": {},
     "output_type": "execute_result"
    }
   ],
   "source": [
    "df['balance'].replace(np.nan, 0, inplace=True)\n",
    "df['balance'].isna().sum()"
   ]
  },
  {
   "cell_type": "code",
   "execution_count": 97,
   "metadata": {},
   "outputs": [
    {
     "data": {
      "text/plain": [
       "0"
      ]
     },
     "execution_count": 97,
     "metadata": {},
     "output_type": "execute_result"
    }
   ],
   "source": [
    "df.duplicated().sum() #проверка на дубликаты"
   ]
  },
  {
   "cell_type": "markdown",
   "metadata": {},
   "source": [
    "Дубликатов нет. \n",
    "\n",
    "Посмотрим на случайную выборку. "
   ]
  },
  {
   "cell_type": "code",
   "execution_count": 98,
   "metadata": {},
   "outputs": [
    {
     "data": {
      "text/html": [
       "<div>\n",
       "<style scoped>\n",
       "    .dataframe tbody tr th:only-of-type {\n",
       "        vertical-align: middle;\n",
       "    }\n",
       "\n",
       "    .dataframe tbody tr th {\n",
       "        vertical-align: top;\n",
       "    }\n",
       "\n",
       "    .dataframe thead th {\n",
       "        text-align: right;\n",
       "    }\n",
       "</style>\n",
       "<table border=\"1\" class=\"dataframe\">\n",
       "  <thead>\n",
       "    <tr style=\"text-align: right;\">\n",
       "      <th></th>\n",
       "      <th>user_id</th>\n",
       "      <th>score</th>\n",
       "      <th>city</th>\n",
       "      <th>gender</th>\n",
       "      <th>age</th>\n",
       "      <th>objects</th>\n",
       "      <th>balance</th>\n",
       "      <th>products</th>\n",
       "      <th>credit_card</th>\n",
       "      <th>loyalty</th>\n",
       "      <th>estimated_salary</th>\n",
       "      <th>churn</th>\n",
       "    </tr>\n",
       "  </thead>\n",
       "  <tbody>\n",
       "    <tr>\n",
       "      <th>614</th>\n",
       "      <td>15703007</td>\n",
       "      <td>688</td>\n",
       "      <td>Ростов Великий</td>\n",
       "      <td>М</td>\n",
       "      <td>26</td>\n",
       "      <td>8</td>\n",
       "      <td>146,133.39</td>\n",
       "      <td>1</td>\n",
       "      <td>1</td>\n",
       "      <td>1</td>\n",
       "      <td>175,296.76</td>\n",
       "      <td>0</td>\n",
       "    </tr>\n",
       "    <tr>\n",
       "      <th>6324</th>\n",
       "      <td>15788748</td>\n",
       "      <td>729</td>\n",
       "      <td>Рыбинск</td>\n",
       "      <td>Ж</td>\n",
       "      <td>28</td>\n",
       "      <td>0</td>\n",
       "      <td>0.00</td>\n",
       "      <td>2</td>\n",
       "      <td>1</td>\n",
       "      <td>1</td>\n",
       "      <td>31,165.06</td>\n",
       "      <td>1</td>\n",
       "    </tr>\n",
       "    <tr>\n",
       "      <th>9302</th>\n",
       "      <td>15795270</td>\n",
       "      <td>744</td>\n",
       "      <td>Ярославль</td>\n",
       "      <td>М</td>\n",
       "      <td>36</td>\n",
       "      <td>10</td>\n",
       "      <td>0.00</td>\n",
       "      <td>2</td>\n",
       "      <td>1</td>\n",
       "      <td>1</td>\n",
       "      <td>182,867.84</td>\n",
       "      <td>0</td>\n",
       "    </tr>\n",
       "    <tr>\n",
       "      <th>9132</th>\n",
       "      <td>15779930</td>\n",
       "      <td>635</td>\n",
       "      <td>Ярославль</td>\n",
       "      <td>Ж</td>\n",
       "      <td>33</td>\n",
       "      <td>5</td>\n",
       "      <td>0.00</td>\n",
       "      <td>2</td>\n",
       "      <td>1</td>\n",
       "      <td>0</td>\n",
       "      <td>122,949.71</td>\n",
       "      <td>0</td>\n",
       "    </tr>\n",
       "    <tr>\n",
       "      <th>5568</th>\n",
       "      <td>15637006</td>\n",
       "      <td>693</td>\n",
       "      <td>Ярославль</td>\n",
       "      <td>М</td>\n",
       "      <td>38</td>\n",
       "      <td>7</td>\n",
       "      <td>198,338.77</td>\n",
       "      <td>2</td>\n",
       "      <td>1</td>\n",
       "      <td>1</td>\n",
       "      <td>14,278.18</td>\n",
       "      <td>0</td>\n",
       "    </tr>\n",
       "    <tr>\n",
       "      <th>4974</th>\n",
       "      <td>15787678</td>\n",
       "      <td>638</td>\n",
       "      <td>Рыбинск</td>\n",
       "      <td>Ж</td>\n",
       "      <td>55</td>\n",
       "      <td>2</td>\n",
       "      <td>155,828.22</td>\n",
       "      <td>1</td>\n",
       "      <td>0</td>\n",
       "      <td>1</td>\n",
       "      <td>108,987.25</td>\n",
       "      <td>1</td>\n",
       "    </tr>\n",
       "    <tr>\n",
       "      <th>8813</th>\n",
       "      <td>15813111</td>\n",
       "      <td>850</td>\n",
       "      <td>Ростов Великий</td>\n",
       "      <td>Ж</td>\n",
       "      <td>26</td>\n",
       "      <td>8</td>\n",
       "      <td>123,126.29</td>\n",
       "      <td>1</td>\n",
       "      <td>1</td>\n",
       "      <td>0</td>\n",
       "      <td>74,425.41</td>\n",
       "      <td>0</td>\n",
       "    </tr>\n",
       "    <tr>\n",
       "      <th>6294</th>\n",
       "      <td>15785560</td>\n",
       "      <td>696</td>\n",
       "      <td>Ростов Великий</td>\n",
       "      <td>М</td>\n",
       "      <td>42</td>\n",
       "      <td>7</td>\n",
       "      <td>162,318.61</td>\n",
       "      <td>1</td>\n",
       "      <td>1</td>\n",
       "      <td>0</td>\n",
       "      <td>121,061.89</td>\n",
       "      <td>0</td>\n",
       "    </tr>\n",
       "    <tr>\n",
       "      <th>1566</th>\n",
       "      <td>15693799</td>\n",
       "      <td>524</td>\n",
       "      <td>Ростов Великий</td>\n",
       "      <td>Ж</td>\n",
       "      <td>37</td>\n",
       "      <td>9</td>\n",
       "      <td>127,480.58</td>\n",
       "      <td>2</td>\n",
       "      <td>1</td>\n",
       "      <td>0</td>\n",
       "      <td>179,634.69</td>\n",
       "      <td>0</td>\n",
       "    </tr>\n",
       "    <tr>\n",
       "      <th>816</th>\n",
       "      <td>15777301</td>\n",
       "      <td>696</td>\n",
       "      <td>Ярославль</td>\n",
       "      <td>М</td>\n",
       "      <td>29</td>\n",
       "      <td>8</td>\n",
       "      <td>0.00</td>\n",
       "      <td>2</td>\n",
       "      <td>1</td>\n",
       "      <td>0</td>\n",
       "      <td>191,166.09</td>\n",
       "      <td>0</td>\n",
       "    </tr>\n",
       "  </tbody>\n",
       "</table>\n",
       "</div>"
      ],
      "text/plain": [
       "       user_id  score            city gender  age  objects    balance  \\\n",
       "614   15703007    688  Ростов Великий      М   26        8 146,133.39   \n",
       "6324  15788748    729         Рыбинск      Ж   28        0       0.00   \n",
       "9302  15795270    744       Ярославль      М   36       10       0.00   \n",
       "9132  15779930    635       Ярославль      Ж   33        5       0.00   \n",
       "5568  15637006    693       Ярославль      М   38        7 198,338.77   \n",
       "4974  15787678    638         Рыбинск      Ж   55        2 155,828.22   \n",
       "8813  15813111    850  Ростов Великий      Ж   26        8 123,126.29   \n",
       "6294  15785560    696  Ростов Великий      М   42        7 162,318.61   \n",
       "1566  15693799    524  Ростов Великий      Ж   37        9 127,480.58   \n",
       "816   15777301    696       Ярославль      М   29        8       0.00   \n",
       "\n",
       "      products  credit_card  loyalty  estimated_salary  churn  \n",
       "614          1            1        1        175,296.76      0  \n",
       "6324         2            1        1         31,165.06      1  \n",
       "9302         2            1        1        182,867.84      0  \n",
       "9132         2            1        0        122,949.71      0  \n",
       "5568         2            1        1         14,278.18      0  \n",
       "4974         1            0        1        108,987.25      1  \n",
       "8813         1            1        0         74,425.41      0  \n",
       "6294         1            1        0        121,061.89      0  \n",
       "1566         2            1        0        179,634.69      0  \n",
       "816          2            1        0        191,166.09      0  "
      ]
     },
     "execution_count": 98,
     "metadata": {},
     "output_type": "execute_result"
    }
   ],
   "source": [
    "df.sample(10)"
   ]
  },
  {
   "cell_type": "markdown",
   "metadata": {},
   "source": [
    "**Вывод**\n",
    "* Заменили названия столбцов на змеиный регистр, проверили корректность данных, проверили данные на аномалии и дубликаты.\n",
    "\n",
    "* Были обнаружены клиенты с заработной платой меньше минимальной. По другим параметрам эти клиенты выглядят адекватно, было принято решение оставить их без измененеий. \n",
    "\n",
    "* В столбце с балансом на счете клиента были пропущенные значения. Возможно, система таким образом распознает клиентов, не имеющих дебетовой карты. Было принято решение приравнять эти значения к нулю.\n"
   ]
  },
  {
   "cell_type": "markdown",
   "metadata": {},
   "source": [
    "## Исследовательский анализ данных (EDA)\n"
   ]
  },
  {
   "cell_type": "markdown",
   "metadata": {},
   "source": [
    "### Изучение распределений признаков\n",
    "Посмотрим на разброс и распределение основных признаков, построим графики. Без привязки к оттоку пользоватлей. "
   ]
  },
  {
   "cell_type": "code",
   "execution_count": 99,
   "metadata": {},
   "outputs": [
    {
     "data": {
      "text/html": [
       "<div>\n",
       "<style scoped>\n",
       "    .dataframe tbody tr th:only-of-type {\n",
       "        vertical-align: middle;\n",
       "    }\n",
       "\n",
       "    .dataframe tbody tr th {\n",
       "        vertical-align: top;\n",
       "    }\n",
       "\n",
       "    .dataframe thead th {\n",
       "        text-align: right;\n",
       "    }\n",
       "</style>\n",
       "<table border=\"1\" class=\"dataframe\">\n",
       "  <thead>\n",
       "    <tr style=\"text-align: right;\">\n",
       "      <th></th>\n",
       "      <th>user_id</th>\n",
       "      <th>score</th>\n",
       "      <th>age</th>\n",
       "      <th>objects</th>\n",
       "      <th>balance</th>\n",
       "      <th>products</th>\n",
       "      <th>credit_card</th>\n",
       "      <th>loyalty</th>\n",
       "      <th>estimated_salary</th>\n",
       "      <th>churn</th>\n",
       "    </tr>\n",
       "  </thead>\n",
       "  <tbody>\n",
       "    <tr>\n",
       "      <th>count</th>\n",
       "      <td>10,000.00</td>\n",
       "      <td>10,000.00</td>\n",
       "      <td>10,000.00</td>\n",
       "      <td>10,000.00</td>\n",
       "      <td>10,000.00</td>\n",
       "      <td>10,000.00</td>\n",
       "      <td>10,000.00</td>\n",
       "      <td>10,000.00</td>\n",
       "      <td>10,000.00</td>\n",
       "      <td>10,000.00</td>\n",
       "    </tr>\n",
       "    <tr>\n",
       "      <th>mean</th>\n",
       "      <td>15,733,676.57</td>\n",
       "      <td>650.53</td>\n",
       "      <td>38.92</td>\n",
       "      <td>5.01</td>\n",
       "      <td>76,485.89</td>\n",
       "      <td>1.53</td>\n",
       "      <td>0.71</td>\n",
       "      <td>0.52</td>\n",
       "      <td>100,090.24</td>\n",
       "      <td>0.20</td>\n",
       "    </tr>\n",
       "    <tr>\n",
       "      <th>std</th>\n",
       "      <td>71,936.19</td>\n",
       "      <td>96.65</td>\n",
       "      <td>10.49</td>\n",
       "      <td>2.89</td>\n",
       "      <td>62,397.41</td>\n",
       "      <td>0.58</td>\n",
       "      <td>0.46</td>\n",
       "      <td>0.50</td>\n",
       "      <td>57,510.49</td>\n",
       "      <td>0.40</td>\n",
       "    </tr>\n",
       "    <tr>\n",
       "      <th>min</th>\n",
       "      <td>15,608,437.00</td>\n",
       "      <td>350.00</td>\n",
       "      <td>18.00</td>\n",
       "      <td>0.00</td>\n",
       "      <td>0.00</td>\n",
       "      <td>1.00</td>\n",
       "      <td>0.00</td>\n",
       "      <td>0.00</td>\n",
       "      <td>11.58</td>\n",
       "      <td>0.00</td>\n",
       "    </tr>\n",
       "    <tr>\n",
       "      <th>25%</th>\n",
       "      <td>15,671,264.25</td>\n",
       "      <td>584.00</td>\n",
       "      <td>32.00</td>\n",
       "      <td>3.00</td>\n",
       "      <td>0.00</td>\n",
       "      <td>1.00</td>\n",
       "      <td>0.00</td>\n",
       "      <td>0.00</td>\n",
       "      <td>51,002.11</td>\n",
       "      <td>0.00</td>\n",
       "    </tr>\n",
       "    <tr>\n",
       "      <th>50%</th>\n",
       "      <td>15,733,474.00</td>\n",
       "      <td>652.00</td>\n",
       "      <td>37.00</td>\n",
       "      <td>5.00</td>\n",
       "      <td>97,198.54</td>\n",
       "      <td>1.00</td>\n",
       "      <td>1.00</td>\n",
       "      <td>1.00</td>\n",
       "      <td>100,193.91</td>\n",
       "      <td>0.00</td>\n",
       "    </tr>\n",
       "    <tr>\n",
       "      <th>75%</th>\n",
       "      <td>15,795,969.75</td>\n",
       "      <td>718.00</td>\n",
       "      <td>44.00</td>\n",
       "      <td>7.00</td>\n",
       "      <td>127,644.24</td>\n",
       "      <td>2.00</td>\n",
       "      <td>1.00</td>\n",
       "      <td>1.00</td>\n",
       "      <td>149,388.25</td>\n",
       "      <td>0.00</td>\n",
       "    </tr>\n",
       "    <tr>\n",
       "      <th>max</th>\n",
       "      <td>15,858,426.00</td>\n",
       "      <td>850.00</td>\n",
       "      <td>92.00</td>\n",
       "      <td>10.00</td>\n",
       "      <td>250,898.09</td>\n",
       "      <td>4.00</td>\n",
       "      <td>1.00</td>\n",
       "      <td>1.00</td>\n",
       "      <td>199,992.48</td>\n",
       "      <td>1.00</td>\n",
       "    </tr>\n",
       "  </tbody>\n",
       "</table>\n",
       "</div>"
      ],
      "text/plain": [
       "            user_id     score       age   objects    balance  products  \\\n",
       "count     10,000.00 10,000.00 10,000.00 10,000.00  10,000.00 10,000.00   \n",
       "mean  15,733,676.57    650.53     38.92      5.01  76,485.89      1.53   \n",
       "std       71,936.19     96.65     10.49      2.89  62,397.41      0.58   \n",
       "min   15,608,437.00    350.00     18.00      0.00       0.00      1.00   \n",
       "25%   15,671,264.25    584.00     32.00      3.00       0.00      1.00   \n",
       "50%   15,733,474.00    652.00     37.00      5.00  97,198.54      1.00   \n",
       "75%   15,795,969.75    718.00     44.00      7.00 127,644.24      2.00   \n",
       "max   15,858,426.00    850.00     92.00     10.00 250,898.09      4.00   \n",
       "\n",
       "       credit_card   loyalty  estimated_salary     churn  \n",
       "count    10,000.00 10,000.00         10,000.00 10,000.00  \n",
       "mean          0.71      0.52        100,090.24      0.20  \n",
       "std           0.46      0.50         57,510.49      0.40  \n",
       "min           0.00      0.00             11.58      0.00  \n",
       "25%           0.00      0.00         51,002.11      0.00  \n",
       "50%           1.00      1.00        100,193.91      0.00  \n",
       "75%           1.00      1.00        149,388.25      0.00  \n",
       "max           1.00      1.00        199,992.48      1.00  "
      ]
     },
     "execution_count": 99,
     "metadata": {},
     "output_type": "execute_result"
    }
   ],
   "source": [
    "df.describe()"
   ]
  },
  {
   "cell_type": "markdown",
   "metadata": {},
   "source": [
    "*  10 000 чел уникальных клиентов\n",
    "\n",
    "* В среднем это стабильные клиенты, имеющие результат кредитного скоринга равный в среднем 650 балла.\n",
    "\n",
    "* Клиентам от 18 до 92 лет. Все совершеннолетние, среднему клиенту 39 лет.\n",
    "\n",
    "* В среднем у клиентов в собственности 5 объектов.\n",
    "\n",
    "* Баланс на счету в среднем около 80 000р. Если не брать в расчет клиентов, у которых отсутствует дебетовая карта, то около 120 000р.\n",
    "\n",
    "* Клиенты пользуются от 1 до 4 продектами. В среднем клиенты пользуются 1-2 продуктами.\n",
    "\n",
    "* Больше половины клиентов имеют кредитную карту. Но активно используют её около половины клиентов.\n",
    "\n",
    "* Довольно высокий уровень зароботной платы для региональных городов (в среднем 100 000р.) даже учитывая клиентов, с зарплатой ниже прожиточного минимума.\n",
    "\n",
    "* Более чем у половны клиентов есть действующий счет в банке.\n",
    "\n",
    "* В выборке средний отток составляет 20%."
   ]
  },
  {
   "cell_type": "code",
   "execution_count": 100,
   "metadata": {},
   "outputs": [],
   "source": [
    "#зададим стандартную палитру для графиков\n",
    "sns.set_palette('dark') \n",
    "#зададим цветовую палитру\n",
    "colors = ['#E8C07D', '#9FC088', '#CC704B', '#614124']"
   ]
  },
  {
   "cell_type": "markdown",
   "metadata": {},
   "source": [
    "Построим графики для номинальных переменных"
   ]
  },
  {
   "cell_type": "code",
   "execution_count": 101,
   "metadata": {},
   "outputs": [
    {
     "data": {
      "image/png": "[encoded data removed]",
      "text/plain": [
       "<Figure size 1152x648 with 1 Axes>"
      ]
     },
     "metadata": {},
     "output_type": "display_data"
    },
    {
     "data": {
      "image/png": "[encoded data removed]",
      "text/plain": [
       "<Figure size 1152x648 with 1 Axes>"
      ]
     },
     "metadata": {},
     "output_type": "display_data"
    },
    {
     "data": {
      "image/png": "[encoded data removed]",
      "text/plain": [
       "<Figure size 1152x648 with 1 Axes>"
      ]
     },
     "metadata": {},
     "output_type": "display_data"
    },
    {
     "data": {
      "image/png": "[encoded data removed]",
      "text/plain": [
       "<Figure size 1152x648 with 1 Axes>"
      ]
     },
     "metadata": {},
     "output_type": "display_data"
    },
    {
     "data": {
      "image/png": "[encoded data removed]",
      "text/plain": [
       "<Figure size 1152x648 with 1 Axes>"
      ]
     },
     "metadata": {},
     "output_type": "display_data"
    },
    {
     "data": {
      "image/png": "[encoded data removed]",
      "text/plain": [
       "<Figure size 1152x648 with 1 Axes>"
      ]
     },
     "metadata": {},
     "output_type": "display_data"
    },
    {
     "data": {
      "image/png": "[encoded data removed]",
      "text/plain": [
       "<Figure size 1152x648 with 1 Axes>"
      ]
     },
     "metadata": {},
     "output_type": "display_data"
    }
   ],
   "source": [
    "for column in ['gender', 'city', 'objects', 'products', 'credit_card', 'loyalty', 'churn']:\n",
    "    report = df.groupby(column).count().reset_index().sort_values(by='user_id', ascending=False)\n",
    "    ax = sns.barplot(x=column, y='user_id', data=report, palette=colors) \n",
    "\n",
    "    ax.set_ylabel('Кол-во клиентов', fontsize=14)\n",
    "    ax.set_xlabel(column, fontsize=14)\n",
    "    ax.set_title(column, fontsize=16)\n",
    "    plt.show()\n",
    "\n"
   ]
  },
  {
   "cell_type": "markdown",
   "metadata": {},
   "source": [
    "* Мужчин в выборке чуть больше, чем женщин. \n",
    "* В выборке 5000 человек из Ярославля, по 2500 из Ростова и Рыбинска. \n",
    "* Меньше всего людей не имеющих объектов недвижимости в собственности (примерно 400) и имеющих 10 объектов (500). Владельцев 2-9 объектов примерно одинаковое число (950-1050 человек)\n",
    "* Большинство клиентов пользуются одним или двумы продуктами. Лишь немногие используют 3 или 4 продукта. \n",
    "* У большинства офомлена кредитная крта (7000 против 3000)\n",
    "* Активны только половина клиентов\n",
    "* Ушли 20% клиентов (2000 человек)\n",
    "\n",
    "Построим диаграмму размаха для количественных переменных"
   ]
  },
  {
   "cell_type": "code",
   "execution_count": 102,
   "metadata": {},
   "outputs": [
    {
     "data": {
      "image/png": "[encoded data removed]",
      "text/plain": [
       "<Figure size 1152x648 with 1 Axes>"
      ]
     },
     "metadata": {},
     "output_type": "display_data"
    },
    {
     "data": {
      "image/png": "[encoded data removed]",
      "text/plain": [
       "<Figure size 1152x648 with 1 Axes>"
      ]
     },
     "metadata": {},
     "output_type": "display_data"
    },
    {
     "data": {
      "image/png": "[encoded data removed]",
      "text/plain": [
       "<Figure size 1152x648 with 1 Axes>"
      ]
     },
     "metadata": {},
     "output_type": "display_data"
    },
    {
     "data": {
      "image/png": "[encoded data removed]",
      "text/plain": [
       "<Figure size 1152x648 with 1 Axes>"
      ]
     },
     "metadata": {},
     "output_type": "display_data"
    }
   ],
   "source": [
    "for column in ['age', 'score', 'balance', 'estimated_salary']:\n",
    "\n",
    "    ax = sns.boxplot(y=column, data=df, palette=colors)\n",
    "\n",
    "    ax.set_ylabel(column, fontsize=14)\n",
    "    ax.set_title(column, fontsize=16)\n",
    "\n",
    "    plt.show()"
   ]
  },
  {
   "cell_type": "markdown",
   "metadata": {},
   "source": [
    "Построим диаграмму размаха по возрасту и полу клиентов."
   ]
  },
  {
   "cell_type": "code",
   "execution_count": 103,
   "metadata": {},
   "outputs": [
    {
     "data": {
      "image/png": "[encoded data removed]",
      "text/plain": [
       "<Figure size 1152x432 with 1 Axes>"
      ]
     },
     "metadata": {},
     "output_type": "display_data"
    }
   ],
   "source": [
    "plt.figure(figsize=(16, 6)) \n",
    "\n",
    "\n",
    "ax = sns.boxplot(x='gender', y=\"age\", data=df, palette=colors)\n",
    "\n",
    "\n",
    "ax.set_xlabel(\"Пол\", fontsize=14)\n",
    "ax.set_ylabel(\"Возраст\", fontsize=14)\n",
    "ax.set_title('Диаграмма размаха по возрасту и полу клиентов', fontsize=16)\n",
    "\n",
    "plt.show()"
   ]
  },
  {
   "cell_type": "markdown",
   "metadata": {},
   "source": [
    "На диаграмме видно, что мужчины в среднем немного моложе женщин, но среди мужчин встречается больше выбросов (до 92 лет)"
   ]
  },
  {
   "cell_type": "code",
   "execution_count": 104,
   "metadata": {},
   "outputs": [
    {
     "data": {
      "image/png": "[encoded data removed]",
      "text/plain": [
       "<Figure size 1152x432 with 1 Axes>"
      ]
     },
     "metadata": {},
     "output_type": "display_data"
    }
   ],
   "source": [
    "plt.figure(figsize=(16, 6)) \n",
    "\n",
    "\n",
    "ax = sns.boxplot(x='gender', y=\"estimated_salary\", data=df, palette=colors)\n",
    "\n",
    "\n",
    "ax.set_xlabel(\"Пол\", fontsize=14)\n",
    "ax.set_ylabel(\"Доход\", fontsize=14)\n",
    "ax.set_title('Диаграмма размаха по полу и доходу клиентов', fontsize=16)\n",
    "\n",
    "plt.show()"
   ]
  },
  {
   "cell_type": "code",
   "execution_count": 105,
   "metadata": {},
   "outputs": [
    {
     "data": {
      "image/png": "[encoded data removed]",
      "text/plain": [
       "<Figure size 1152x432 with 1 Axes>"
      ]
     },
     "metadata": {},
     "output_type": "display_data"
    }
   ],
   "source": [
    "plt.figure(figsize=(16, 6)) \n",
    "\n",
    "\n",
    "ax = sns.boxplot(x='gender', y=\"balance\", data=df, palette=colors)\n",
    "\n",
    "\n",
    "ax.set_xlabel(\"Пол\", fontsize=14)\n",
    "ax.set_ylabel(\"Баланс\", fontsize=14)\n",
    "ax.set_title('Диаграмма размаха по полу и балансу клиентов', fontsize=16)\n",
    "\n",
    "plt.show()"
   ]
  },
  {
   "cell_type": "markdown",
   "metadata": {},
   "source": [
    "Доход и баланс у мужчин и женщин в выборке не различается"
   ]
  },
  {
   "cell_type": "markdown",
   "metadata": {},
   "source": [
    "**Выводы**\n",
    "\n",
    "*  10 000 чел уникальных клиентов\n",
    "\n",
    "* В среднем это стабильные клиенты, имеющие результат кредитного скоринга равный в среднем 650 балла.\n",
    "\n",
    "* Клиентам от 18 до 92 лет. Все совершеннолетние, среднему клиенту 39 лет.\n",
    "\n",
    "* В среднем у клиентов в собственности 5 объектов.\n",
    "\n",
    "* Баланс на счету в среднем около 80 000р. Если не брать в расчет клиентов, у которых отсутствует дебетовая карта, то около 120 000р.\n",
    "\n",
    "* Клиенты пользуются от 1 до 4 продектами. В среднем клиенты пользуются 1-2 продуктами.\n",
    "\n",
    "* Больше половины клиентов имеют кредитную карту. Но активно используют её около половины клиентов.\n",
    "\n",
    "* Довольно высокий уровень зароботной платы для региональных городов (в среднем 100 000р.) даже учитывая клиентов, с зарплатой ниже прожиточного минимума.\n",
    "\n",
    "* Более чем у половны клиентов есть действующий счет в банке.\n",
    "\n",
    "* Мужчин в выборке чуть больше, чем женщин. Мужчины и женщины пользуются банковскими услугами одинаково\n",
    "\n",
    "* В выборке 5000 человек из Ярославля, по 2500 из Ростова и Рыбинска. \n",
    "\n",
    "* Ушли 20% клиентов (2000 человек)\n",
    "\n"
   ]
  },
  {
   "cell_type": "markdown",
   "metadata": {},
   "source": [
    "### Изучение распределений признаков в зависимости от оттока.\n",
    "Сравним распределение основных признаков для тех, кто ушёл и тех, кто остался.\n",
    "\n",
    "Посмотрим на средние значения признаков в двух группах — тех, кто ушел в отток и тех, кто остался"
   ]
  },
  {
   "cell_type": "code",
   "execution_count": 106,
   "metadata": {},
   "outputs": [
    {
     "data": {
      "text/html": [
       "<div>\n",
       "<style scoped>\n",
       "    .dataframe tbody tr th:only-of-type {\n",
       "        vertical-align: middle;\n",
       "    }\n",
       "\n",
       "    .dataframe tbody tr th {\n",
       "        vertical-align: top;\n",
       "    }\n",
       "\n",
       "    .dataframe thead th {\n",
       "        text-align: right;\n",
       "    }\n",
       "</style>\n",
       "<table border=\"1\" class=\"dataframe\">\n",
       "  <thead>\n",
       "    <tr style=\"text-align: right;\">\n",
       "      <th>churn</th>\n",
       "      <th>0</th>\n",
       "      <th>1</th>\n",
       "    </tr>\n",
       "  </thead>\n",
       "  <tbody>\n",
       "    <tr>\n",
       "      <th>user_id</th>\n",
       "      <td>15,733,903.88</td>\n",
       "      <td>15,732,787.96</td>\n",
       "    </tr>\n",
       "    <tr>\n",
       "      <th>score</th>\n",
       "      <td>651.85</td>\n",
       "      <td>645.35</td>\n",
       "    </tr>\n",
       "    <tr>\n",
       "      <th>age</th>\n",
       "      <td>37.41</td>\n",
       "      <td>44.84</td>\n",
       "    </tr>\n",
       "    <tr>\n",
       "      <th>objects</th>\n",
       "      <td>5.03</td>\n",
       "      <td>4.93</td>\n",
       "    </tr>\n",
       "    <tr>\n",
       "      <th>balance</th>\n",
       "      <td>72,745.30</td>\n",
       "      <td>91,108.54</td>\n",
       "    </tr>\n",
       "    <tr>\n",
       "      <th>products</th>\n",
       "      <td>1.54</td>\n",
       "      <td>1.48</td>\n",
       "    </tr>\n",
       "    <tr>\n",
       "      <th>credit_card</th>\n",
       "      <td>0.71</td>\n",
       "      <td>0.70</td>\n",
       "    </tr>\n",
       "    <tr>\n",
       "      <th>loyalty</th>\n",
       "      <td>0.55</td>\n",
       "      <td>0.36</td>\n",
       "    </tr>\n",
       "    <tr>\n",
       "      <th>estimated_salary</th>\n",
       "      <td>99,738.39</td>\n",
       "      <td>101,465.68</td>\n",
       "    </tr>\n",
       "  </tbody>\n",
       "</table>\n",
       "</div>"
      ],
      "text/plain": [
       "churn                        0             1\n",
       "user_id          15,733,903.88 15,732,787.96\n",
       "score                   651.85        645.35\n",
       "age                      37.41         44.84\n",
       "objects                   5.03          4.93\n",
       "balance              72,745.30     91,108.54\n",
       "products                  1.54          1.48\n",
       "credit_card               0.71          0.70\n",
       "loyalty                   0.55          0.36\n",
       "estimated_salary     99,738.39    101,465.68"
      ]
     },
     "execution_count": 106,
     "metadata": {},
     "output_type": "execute_result"
    }
   ],
   "source": [
    "def highlight_min(s):\n",
    "    is_min = s == s.min()\n",
    "    return ['background-color: lightblue' if v else '' for v in is_min]\n",
    "\n",
    "df.groupby('churn').agg('mean').T"
   ]
  },
  {
   "cell_type": "markdown",
   "metadata": {},
   "source": [
    "На первый взгляд немного отличается балан (у ушедших клентов выше) и лояльность (лояльные клиенты чаще остаются). Немного отличается возврст (ушкдшие клиенты немного старше). \n",
    "Данные наблюдения отражают лишь первый взгляд на различия в данных, весомость этих параметров ещё предстоит доказать.\n",
    "\n",
    "Построим графики для бинарных признаков."
   ]
  },
  {
   "cell_type": "code",
   "execution_count": 107,
   "metadata": {
    "scrolled": true
   },
   "outputs": [
    {
     "data": {
      "image/png": "[encoded data removed]",
      "text/plain": [
       "<Figure size 360x360 with 1 Axes>"
      ]
     },
     "metadata": {},
     "output_type": "display_data"
    },
    {
     "data": {
      "image/png": "[encoded data removed]",
      "text/plain": [
       "<Figure size 360x360 with 1 Axes>"
      ]
     },
     "metadata": {},
     "output_type": "display_data"
    },
    {
     "data": {
      "image/png": "[encoded data removed]",
      "text/plain": [
       "<Figure size 360x360 with 1 Axes>"
      ]
     },
     "metadata": {},
     "output_type": "display_data"
    }
   ],
   "source": [
    "for column in ['gender', 'credit_card', 'loyalty']:\n",
    "    plt.figure(figsize=(5, 5))\n",
    "    sns.countplot(x = df[column], hue='churn', data=df, palette=colors)\n",
    "    plt.title(column)\n",
    "    plt.show()"
   ]
  },
  {
   "cell_type": "markdown",
   "metadata": {},
   "source": [
    "Женщины чуть чаще уходят в отток, чем мужчины. В отток заметно чаще попадают люди, у которых есть кредитная карта и неактивные клиенты. "
   ]
  },
  {
   "cell_type": "markdown",
   "metadata": {},
   "source": [
    "Для удобства работы с небинарными признакми выделим **категории**"
   ]
  },
  {
   "cell_type": "code",
   "execution_count": 108,
   "metadata": {},
   "outputs": [
    {
     "data": {
      "text/html": [
       "<div>\n",
       "<style scoped>\n",
       "    .dataframe tbody tr th:only-of-type {\n",
       "        vertical-align: middle;\n",
       "    }\n",
       "\n",
       "    .dataframe tbody tr th {\n",
       "        vertical-align: top;\n",
       "    }\n",
       "\n",
       "    .dataframe thead th {\n",
       "        text-align: right;\n",
       "    }\n",
       "</style>\n",
       "<table border=\"1\" class=\"dataframe\">\n",
       "  <thead>\n",
       "    <tr style=\"text-align: right;\">\n",
       "      <th></th>\n",
       "      <th>user_id</th>\n",
       "      <th>score</th>\n",
       "      <th>age</th>\n",
       "      <th>objects</th>\n",
       "      <th>balance</th>\n",
       "      <th>products</th>\n",
       "      <th>credit_card</th>\n",
       "      <th>loyalty</th>\n",
       "      <th>estimated_salary</th>\n",
       "      <th>churn</th>\n",
       "    </tr>\n",
       "  </thead>\n",
       "  <tbody>\n",
       "    <tr>\n",
       "      <th>count</th>\n",
       "      <td>10,000.00</td>\n",
       "      <td>10,000.00</td>\n",
       "      <td>10,000.00</td>\n",
       "      <td>10,000.00</td>\n",
       "      <td>10,000.00</td>\n",
       "      <td>10,000.00</td>\n",
       "      <td>10,000.00</td>\n",
       "      <td>10,000.00</td>\n",
       "      <td>10,000.00</td>\n",
       "      <td>10,000.00</td>\n",
       "    </tr>\n",
       "    <tr>\n",
       "      <th>mean</th>\n",
       "      <td>15,733,676.57</td>\n",
       "      <td>650.53</td>\n",
       "      <td>38.92</td>\n",
       "      <td>5.01</td>\n",
       "      <td>76,485.89</td>\n",
       "      <td>1.53</td>\n",
       "      <td>0.71</td>\n",
       "      <td>0.52</td>\n",
       "      <td>100,090.24</td>\n",
       "      <td>0.20</td>\n",
       "    </tr>\n",
       "    <tr>\n",
       "      <th>std</th>\n",
       "      <td>71,936.19</td>\n",
       "      <td>96.65</td>\n",
       "      <td>10.49</td>\n",
       "      <td>2.89</td>\n",
       "      <td>62,397.41</td>\n",
       "      <td>0.58</td>\n",
       "      <td>0.46</td>\n",
       "      <td>0.50</td>\n",
       "      <td>57,510.49</td>\n",
       "      <td>0.40</td>\n",
       "    </tr>\n",
       "    <tr>\n",
       "      <th>min</th>\n",
       "      <td>15,608,437.00</td>\n",
       "      <td>350.00</td>\n",
       "      <td>18.00</td>\n",
       "      <td>0.00</td>\n",
       "      <td>0.00</td>\n",
       "      <td>1.00</td>\n",
       "      <td>0.00</td>\n",
       "      <td>0.00</td>\n",
       "      <td>11.58</td>\n",
       "      <td>0.00</td>\n",
       "    </tr>\n",
       "    <tr>\n",
       "      <th>25%</th>\n",
       "      <td>15,671,264.25</td>\n",
       "      <td>584.00</td>\n",
       "      <td>32.00</td>\n",
       "      <td>3.00</td>\n",
       "      <td>0.00</td>\n",
       "      <td>1.00</td>\n",
       "      <td>0.00</td>\n",
       "      <td>0.00</td>\n",
       "      <td>51,002.11</td>\n",
       "      <td>0.00</td>\n",
       "    </tr>\n",
       "    <tr>\n",
       "      <th>50%</th>\n",
       "      <td>15,733,474.00</td>\n",
       "      <td>652.00</td>\n",
       "      <td>37.00</td>\n",
       "      <td>5.00</td>\n",
       "      <td>97,198.54</td>\n",
       "      <td>1.00</td>\n",
       "      <td>1.00</td>\n",
       "      <td>1.00</td>\n",
       "      <td>100,193.91</td>\n",
       "      <td>0.00</td>\n",
       "    </tr>\n",
       "    <tr>\n",
       "      <th>75%</th>\n",
       "      <td>15,795,969.75</td>\n",
       "      <td>718.00</td>\n",
       "      <td>44.00</td>\n",
       "      <td>7.00</td>\n",
       "      <td>127,644.24</td>\n",
       "      <td>2.00</td>\n",
       "      <td>1.00</td>\n",
       "      <td>1.00</td>\n",
       "      <td>149,388.25</td>\n",
       "      <td>0.00</td>\n",
       "    </tr>\n",
       "    <tr>\n",
       "      <th>max</th>\n",
       "      <td>15,858,426.00</td>\n",
       "      <td>850.00</td>\n",
       "      <td>92.00</td>\n",
       "      <td>10.00</td>\n",
       "      <td>250,898.09</td>\n",
       "      <td>4.00</td>\n",
       "      <td>1.00</td>\n",
       "      <td>1.00</td>\n",
       "      <td>199,992.48</td>\n",
       "      <td>1.00</td>\n",
       "    </tr>\n",
       "  </tbody>\n",
       "</table>\n",
       "</div>"
      ],
      "text/plain": [
       "            user_id     score       age   objects    balance  products  \\\n",
       "count     10,000.00 10,000.00 10,000.00 10,000.00  10,000.00 10,000.00   \n",
       "mean  15,733,676.57    650.53     38.92      5.01  76,485.89      1.53   \n",
       "std       71,936.19     96.65     10.49      2.89  62,397.41      0.58   \n",
       "min   15,608,437.00    350.00     18.00      0.00       0.00      1.00   \n",
       "25%   15,671,264.25    584.00     32.00      3.00       0.00      1.00   \n",
       "50%   15,733,474.00    652.00     37.00      5.00  97,198.54      1.00   \n",
       "75%   15,795,969.75    718.00     44.00      7.00 127,644.24      2.00   \n",
       "max   15,858,426.00    850.00     92.00     10.00 250,898.09      4.00   \n",
       "\n",
       "       credit_card   loyalty  estimated_salary     churn  \n",
       "count    10,000.00 10,000.00         10,000.00 10,000.00  \n",
       "mean          0.71      0.52        100,090.24      0.20  \n",
       "std           0.46      0.50         57,510.49      0.40  \n",
       "min           0.00      0.00             11.58      0.00  \n",
       "25%           0.00      0.00         51,002.11      0.00  \n",
       "50%           1.00      1.00        100,193.91      0.00  \n",
       "75%           1.00      1.00        149,388.25      0.00  \n",
       "max           1.00      1.00        199,992.48      1.00  "
      ]
     },
     "execution_count": 108,
     "metadata": {},
     "output_type": "execute_result"
    }
   ],
   "source": [
    "df.describe()"
   ]
  },
  {
   "cell_type": "code",
   "execution_count": 109,
   "metadata": {},
   "outputs": [
    {
     "data": {
      "text/plain": [
       "5-7 объектов       3007\n",
       "боле 7 объектов    2499\n",
       "1-2 объекта        2083\n",
       "3-5 объектов       1998\n",
       "нет объектов        413\n",
       "Name: objects_category, dtype: int64"
      ]
     },
     "execution_count": 109,
     "metadata": {},
     "output_type": "execute_result"
    }
   ],
   "source": [
    "#напишем функцию по категоризации по числу объектов в собстенности\n",
    "def objects_category(df):\n",
    "    \n",
    "    if df['objects'] == 0:\n",
    "        return 'нет объектов'\n",
    "    \n",
    "    elif df['objects'] < 3:\n",
    "        return '1-2 объекта'\n",
    "    \n",
    "    elif df['objects'] < 5:\n",
    "        return '3-5 объектов'\n",
    "    \n",
    "    elif df['objects'] <= 7:\n",
    "        return '5-7 объектов'\n",
    "    \n",
    "    else:\n",
    "        return 'боле 7 объектов'\n",
    "\n",
    "#добавим новый столбец в таблицу\n",
    "df['objects_category'] = df.apply(objects_category, axis=1)\n",
    "\n",
    "\n",
    "df['objects_category'].value_counts()\n"
   ]
  },
  {
   "cell_type": "code",
   "execution_count": 110,
   "metadata": {},
   "outputs": [
    {
     "data": {
      "text/plain": [
       "высокий достаток    5010\n",
       "средний достаток    2537\n",
       "низкий достаток     2453\n",
       "Name: salary_category, dtype: int64"
      ]
     },
     "execution_count": 110,
     "metadata": {},
     "output_type": "execute_result"
    }
   ],
   "source": [
    "#напишем функцию, которая распределяет уровень дохода по категориям\n",
    "def salary_category(df):\n",
    "    \n",
    "    if df['estimated_salary'] <= 50000:\n",
    "        return 'низкий достаток'\n",
    "    \n",
    "    elif df['estimated_salary'] <= 100000:\n",
    "        return 'средний достаток'\n",
    "    \n",
    "    else:\n",
    "        return 'высокий достаток'\n",
    "\n",
    "#добавим новый столбец в таблицу\n",
    "df['salary_category'] = df.apply(salary_category, axis=1)\n",
    "\n",
    "df['salary_category'].value_counts()"
   ]
  },
  {
   "cell_type": "code",
   "execution_count": 111,
   "metadata": {},
   "outputs": [
    {
     "data": {
      "text/plain": [
       "среднего возраста       7232\n",
       "молодой                 1968\n",
       "пенсионного возраста     800\n",
       "Name: age_category, dtype: int64"
      ]
     },
     "execution_count": 111,
     "metadata": {},
     "output_type": "execute_result"
    }
   ],
   "source": [
    "#напишем функцию, которая распределяет возраст по категориям\n",
    "def age_category(df):\n",
    "    \n",
    "    if df['age'] <= 30:\n",
    "        return 'молодой'\n",
    "    \n",
    "    elif df['age'] <= 55:\n",
    "        return 'среднего возраста'\n",
    "    \n",
    "    else:\n",
    "        return 'пенсионного возраста'\n",
    "\n",
    "#добавим новый столбец в таблицу\n",
    "df['age_category'] = df.apply(age_category, axis=1)\n",
    "\n",
    "df['age_category'].value_counts()"
   ]
  },
  {
   "cell_type": "code",
   "execution_count": 112,
   "metadata": {},
   "outputs": [
    {
     "data": {
      "text/plain": [
       "средний уровень    6252\n",
       "высокий уровень    3116\n",
       "низкий уровень      632\n",
       "Name: score_category, dtype: int64"
      ]
     },
     "execution_count": 112,
     "metadata": {},
     "output_type": "execute_result"
    }
   ],
   "source": [
    "#напишем функцию, которая распределяет уровень дохода по категориям\n",
    "def score_category(df):\n",
    "    \n",
    "    if df['score'] < 500:\n",
    "        return 'низкий уровень'\n",
    "    \n",
    "    elif df['score'] <= 700:\n",
    "        return 'средний уровень'\n",
    "    \n",
    "    else:\n",
    "        return 'высокий уровень'\n",
    "\n",
    "#добавим новый столбец в таблицу\n",
    "df['score_category'] = df.apply(score_category, axis=1)\n",
    "\n",
    "df['score_category'].value_counts()"
   ]
  },
  {
   "cell_type": "code",
   "execution_count": 113,
   "metadata": {},
   "outputs": [
    {
     "data": {
      "text/plain": [
       "более 100 000р      6308\n",
       "менее 5000р         3618\n",
       "30 000 - 50 000р      63\n",
       "5 000 - 30 000р       11\n",
       "Name: balance_category, dtype: int64"
      ]
     },
     "execution_count": 113,
     "metadata": {},
     "output_type": "execute_result"
    }
   ],
   "source": [
    "#напишем функцию, которая распределяет баланс на счету по категориям\n",
    "def balance_category(df):\n",
    "    \n",
    "    if df['balance'] <= 5000:\n",
    "        return 'менее 5000р'\n",
    "    \n",
    "    elif df['balance'] <= 30000:\n",
    "        return '5 000 - 30 000р'\n",
    "    \n",
    "    elif df['balance'] <= 50000:\n",
    "        return '30 000 - 50 000р'\n",
    "    \n",
    "    elif df['balance'] <= 50000:\n",
    "        return '50 000 - 100 000р'\n",
    "    \n",
    "    else:\n",
    "        return 'более 100 000р'\n",
    "\n",
    "#добавим новый столбец в таблицу\n",
    "df['balance_category'] = df.apply(balance_category, axis=1)\n",
    "\n",
    "df['balance_category'].value_counts()"
   ]
  },
  {
   "cell_type": "markdown",
   "metadata": {},
   "source": [
    "Построим тепловые карты для небинарных признаков. "
   ]
  },
  {
   "cell_type": "code",
   "execution_count": 114,
   "metadata": {},
   "outputs": [],
   "source": [
    "#функция для тепловых карт в абсолютных значениях и процентах\n",
    "def heatmap_churn (column):\n",
    "    #сводная таблица для тепловой карты в абсолютных значениях\n",
    "    data = df\\\n",
    "        .pivot_table(\n",
    "            index='churn',\n",
    "            columns=column,\n",
    "            values='user_id',\n",
    "            aggfunc='count'\n",
    "        )\n",
    "    \n",
    "    #заголовок\n",
    "    print()\n",
    "    print('Количество пользователей. Отток по категории', column)\n",
    "    print()\n",
    "    \n",
    "    #график\n",
    "    plt.figure(figsize=(12, 4))\n",
    "    sns.heatmap(data, cmap='Reds', annot=True, fmt='.0f')\n",
    "    plt.title(column)\n",
    "    plt.show()\n",
    "    \n",
    "    # сводная таблица для тепловой карты в процентах\n",
    "    data_new = data\n",
    "    for group in data.columns:\n",
    "        data_new[group] = (data[group] / data[group].sum()) * 100\n",
    "          \n",
    "    #заголовок\n",
    "    print()\n",
    "    print('Проценты. Отток по категории', column)\n",
    "    print()\n",
    "    \n",
    "    #график\n",
    "    plt.figure(figsize=(12, 4))\n",
    "    sns.heatmap(data_new, cmap='Blues', annot=True, fmt='.0f')\n",
    "    plt.title(column)\n",
    "    plt.show()"
   ]
  },
  {
   "cell_type": "code",
   "execution_count": 115,
   "metadata": {},
   "outputs": [
    {
     "name": "stdout",
     "output_type": "stream",
     "text": [
      "\n",
      "Количество пользователей. Отток по категории objects_category\n",
      "\n"
     ]
    },
    {
     "data": {
      "image/png": "[encoded data removed]",
      "text/plain": [
       "<Figure size 864x288 with 2 Axes>"
      ]
     },
     "metadata": {},
     "output_type": "display_data"
    },
    {
     "name": "stdout",
     "output_type": "stream",
     "text": [
      "\n",
      "Проценты. Отток по категории objects_category\n",
      "\n"
     ]
    },
    {
     "data": {
      "image/png": "[encoded data removed]",
      "text/plain": [
       "<Figure size 864x288 with 2 Axes>"
      ]
     },
     "metadata": {},
     "output_type": "display_data"
    }
   ],
   "source": [
    "heatmap_churn ('objects_category')"
   ]
  },
  {
   "cell_type": "markdown",
   "metadata": {},
   "source": [
    "По численности, чаще всего в отток уходят клиенты, имеющие во владении 5-7 объектов. Но это самая многочисленная группа. В процентном соотношении они реже всего уходят в отток (19% клиентов). Чаще всего уходят в отток клиенты, у которых нет объектов во владении (23%)"
   ]
  },
  {
   "cell_type": "code",
   "execution_count": 116,
   "metadata": {},
   "outputs": [
    {
     "name": "stdout",
     "output_type": "stream",
     "text": [
      "\n",
      "Количество пользователей. Отток по категории score_category\n",
      "\n"
     ]
    },
    {
     "data": {
      "image/png": "[encoded data removed]",
      "text/plain": [
       "<Figure size 864x288 with 2 Axes>"
      ]
     },
     "metadata": {},
     "output_type": "display_data"
    },
    {
     "name": "stdout",
     "output_type": "stream",
     "text": [
      "\n",
      "Проценты. Отток по категории score_category\n",
      "\n"
     ]
    },
    {
     "data": {
      "image/png": "[encoded data removed]",
      "text/plain": [
       "<Figure size 864x288 with 2 Axes>"
      ]
     },
     "metadata": {},
     "output_type": "display_data"
    }
   ],
   "source": [
    "heatmap_churn ('score_category')\n"
   ]
  },
  {
   "cell_type": "markdown",
   "metadata": {},
   "source": [
    "По процентам в отток попадает 20% от общего числа клиентов с высоким уровнем дохода, 20% от общего числа категории среднего дохода и 24% от общего числа в этой категории с низким уровнем."
   ]
  },
  {
   "cell_type": "code",
   "execution_count": 117,
   "metadata": {},
   "outputs": [
    {
     "name": "stdout",
     "output_type": "stream",
     "text": [
      "\n",
      "Количество пользователей. Отток по категории salary_category\n",
      "\n"
     ]
    },
    {
     "data": {
      "image/png": "[encoded data removed]",
      "text/plain": [
       "<Figure size 864x288 with 2 Axes>"
      ]
     },
     "metadata": {},
     "output_type": "display_data"
    },
    {
     "name": "stdout",
     "output_type": "stream",
     "text": [
      "\n",
      "Проценты. Отток по категории salary_category\n",
      "\n"
     ]
    },
    {
     "data": {
      "image/png": "[encoded data removed]",
      "text/plain": [
       "<Figure size 864x288 with 2 Axes>"
      ]
     },
     "metadata": {},
     "output_type": "display_data"
    }
   ],
   "source": [
    "heatmap_churn ('salary_category')\n"
   ]
  },
  {
   "cell_type": "markdown",
   "metadata": {},
   "source": [
    "По численности картина аналогична, больше по общей численности в отток попадает клиентов с высоким уровнем достатка. По процентам в отток попадает 21% (от общего числа в этой категории), со средним и низким уровнем дохода по 20% (от общего числа в этих категориях)."
   ]
  },
  {
   "cell_type": "code",
   "execution_count": 118,
   "metadata": {},
   "outputs": [
    {
     "name": "stdout",
     "output_type": "stream",
     "text": [
      "\n",
      "Количество пользователей. Отток по категории age_category\n",
      "\n"
     ]
    },
    {
     "data": {
      "image/png": "[encoded data removed]",
      "text/plain": [
       "<Figure size 864x288 with 2 Axes>"
      ]
     },
     "metadata": {},
     "output_type": "display_data"
    },
    {
     "name": "stdout",
     "output_type": "stream",
     "text": [
      "\n",
      "Проценты. Отток по категории age_category\n",
      "\n"
     ]
    },
    {
     "data": {
      "image/png": "[encoded data removed]",
      "text/plain": [
       "<Figure size 864x288 with 2 Axes>"
      ]
     },
     "metadata": {},
     "output_type": "display_data"
    }
   ],
   "source": [
    "heatmap_churn ('age_category')\n"
   ]
  },
  {
   "cell_type": "markdown",
   "metadata": {},
   "source": [
    "В отток уходит около 8% (от общего числа в этой категории) молодых клиентов, около 22% (от общего числа в этой категории) среднего возраста и 37% (от общего числа в этой категории) пенсионного возраста."
   ]
  },
  {
   "cell_type": "code",
   "execution_count": 119,
   "metadata": {},
   "outputs": [
    {
     "name": "stdout",
     "output_type": "stream",
     "text": [
      "\n",
      "Количество пользователей. Отток по категории products\n",
      "\n"
     ]
    },
    {
     "data": {
      "image/png": "[encoded data removed]",
      "text/plain": [
       "<Figure size 864x288 with 2 Axes>"
      ]
     },
     "metadata": {},
     "output_type": "display_data"
    },
    {
     "name": "stdout",
     "output_type": "stream",
     "text": [
      "\n",
      "Проценты. Отток по категории products\n",
      "\n"
     ]
    },
    {
     "data": {
      "image/png": "[encoded data removed]",
      "text/plain": [
       "<Figure size 864x288 with 2 Axes>"
      ]
     },
     "metadata": {},
     "output_type": "display_data"
    }
   ],
   "source": [
    "heatmap_churn ('products')\n"
   ]
  },
  {
   "cell_type": "markdown",
   "metadata": {},
   "source": [
    "По численности, в отток уходит больше всего клиентов использующих 1 продукт, но это самая многочисленная категория.  Среди тех, кто пользуется 4 продуктами все попадают в отток. 83% клиентов использующих 3 продукта попадают в отток. 28% использующих 1 продукт попадают в отток и только 8% использующих 2 продукта клиентов попадают в отток, это самая постоянная группа. "
   ]
  },
  {
   "cell_type": "code",
   "execution_count": 120,
   "metadata": {},
   "outputs": [
    {
     "name": "stdout",
     "output_type": "stream",
     "text": [
      "\n",
      "Количество пользователей. Отток по категории balance_category\n",
      "\n"
     ]
    },
    {
     "data": {
      "image/png": "[encoded data removed]",
      "text/plain": [
       "<Figure size 864x288 with 2 Axes>"
      ]
     },
     "metadata": {},
     "output_type": "display_data"
    },
    {
     "name": "stdout",
     "output_type": "stream",
     "text": [
      "\n",
      "Проценты. Отток по категории balance_category\n",
      "\n"
     ]
    },
    {
     "data": {
      "image/png": "[encoded data removed]",
      "text/plain": [
       "<Figure size 864x288 with 2 Axes>"
      ]
     },
     "metadata": {},
     "output_type": "display_data"
    }
   ],
   "source": [
    "heatmap_churn ('balance_category')\n"
   ]
  },
  {
   "cell_type": "markdown",
   "metadata": {},
   "source": [
    "В данной выборке по численности больше всего в отток уходит клиентов с балансом счета более 100к, это составляет 24% от общего числа в этой категории. Среди клиентов с балансом 30-50к уходит в отток 30% , клиентов с балансом 5-30к по численности в отток уходит меньше всего, однако это 55% от общего числа в этой категории. Клиентов с балансом менее 5к уходит в отток 14%, это самая постоянная группа."
   ]
  },
  {
   "cell_type": "code",
   "execution_count": 121,
   "metadata": {},
   "outputs": [
    {
     "name": "stdout",
     "output_type": "stream",
     "text": [
      "\n",
      "Количество пользователей. Отток по категории gender\n",
      "\n"
     ]
    },
    {
     "data": {
      "image/png": "[encoded data removed]",
      "text/plain": [
       "<Figure size 864x288 with 2 Axes>"
      ]
     },
     "metadata": {},
     "output_type": "display_data"
    },
    {
     "name": "stdout",
     "output_type": "stream",
     "text": [
      "\n",
      "Проценты. Отток по категории gender\n",
      "\n"
     ]
    },
    {
     "data": {
      "image/png": "[encoded data removed]",
      "text/plain": [
       "<Figure size 864x288 with 2 Axes>"
      ]
     },
     "metadata": {},
     "output_type": "display_data"
    }
   ],
   "source": [
    "heatmap_churn ('gender')"
   ]
  },
  {
   "cell_type": "markdown",
   "metadata": {},
   "source": [
    "Женищины попадают в отток на 9% чаще, чем мужчины"
   ]
  },
  {
   "cell_type": "code",
   "execution_count": 122,
   "metadata": {},
   "outputs": [
    {
     "name": "stdout",
     "output_type": "stream",
     "text": [
      "\n",
      "Количество пользователей. Отток по категории city\n",
      "\n"
     ]
    },
    {
     "data": {
      "image/png": "[encoded data removed]",
      "text/plain": [
       "<Figure size 864x288 with 2 Axes>"
      ]
     },
     "metadata": {},
     "output_type": "display_data"
    },
    {
     "name": "stdout",
     "output_type": "stream",
     "text": [
      "\n",
      "Проценты. Отток по категории city\n",
      "\n"
     ]
    },
    {
     "data": {
      "image/png": "[encoded data removed]",
      "text/plain": [
       "<Figure size 864x288 with 2 Axes>"
      ]
     },
     "metadata": {},
     "output_type": "display_data"
    }
   ],
   "source": [
    "heatmap_churn ('city')"
   ]
  },
  {
   "cell_type": "markdown",
   "metadata": {},
   "source": [
    "32% Клиентов из Ростова попадают в отток. В два раза больше, чем в других городах (в Рыбинске и Ярославле - 17% и 16% соответственно)"
   ]
  },
  {
   "cell_type": "code",
   "execution_count": 123,
   "metadata": {},
   "outputs": [
    {
     "name": "stdout",
     "output_type": "stream",
     "text": [
      "\n",
      "Количество пользователей. Отток по категории credit_card\n",
      "\n"
     ]
    },
    {
     "data": {
      "image/png": "[encoded data removed]",
      "text/plain": [
       "<Figure size 864x288 with 2 Axes>"
      ]
     },
     "metadata": {},
     "output_type": "display_data"
    },
    {
     "name": "stdout",
     "output_type": "stream",
     "text": [
      "\n",
      "Проценты. Отток по категории credit_card\n",
      "\n"
     ]
    },
    {
     "data": {
      "image/png": "[encoded data removed]",
      "text/plain": [
       "<Figure size 864x288 with 2 Axes>"
      ]
     },
     "metadata": {},
     "output_type": "display_data"
    }
   ],
   "source": [
    "heatmap_churn ('credit_card')"
   ]
  },
  {
   "cell_type": "markdown",
   "metadata": {},
   "source": [
    "Наличие кредитной карты не связано с оттоком"
   ]
  },
  {
   "cell_type": "code",
   "execution_count": 124,
   "metadata": {},
   "outputs": [
    {
     "name": "stdout",
     "output_type": "stream",
     "text": [
      "\n",
      "Количество пользователей. Отток по категории loyalty\n",
      "\n"
     ]
    },
    {
     "data": {
      "image/png": "[encoded data removed]",
      "text/plain": [
       "<Figure size 864x288 with 2 Axes>"
      ]
     },
     "metadata": {},
     "output_type": "display_data"
    },
    {
     "name": "stdout",
     "output_type": "stream",
     "text": [
      "\n",
      "Проценты. Отток по категории loyalty\n",
      "\n"
     ]
    },
    {
     "data": {
      "image/png": "[encoded data removed]",
      "text/plain": [
       "<Figure size 864x288 with 2 Axes>"
      ]
     },
     "metadata": {},
     "output_type": "display_data"
    }
   ],
   "source": [
    "heatmap_churn ('loyalty')"
   ]
  },
  {
   "cell_type": "markdown",
   "metadata": {},
   "source": [
    "27% неактивных клиентов попадают в отток против 14% активных"
   ]
  },
  {
   "cell_type": "markdown",
   "metadata": {},
   "source": [
    "### Корреляционный анализ"
   ]
  },
  {
   "cell_type": "markdown",
   "metadata": {},
   "source": [
    "Создадим датафрейм, с котором закодируем города one-hot кодировкой для проверки корреляции"
   ]
  },
  {
   "cell_type": "code",
   "execution_count": 125,
   "metadata": {},
   "outputs": [
    {
     "data": {
      "text/html": [
       "<div>\n",
       "<style scoped>\n",
       "    .dataframe tbody tr th:only-of-type {\n",
       "        vertical-align: middle;\n",
       "    }\n",
       "\n",
       "    .dataframe tbody tr th {\n",
       "        vertical-align: top;\n",
       "    }\n",
       "\n",
       "    .dataframe thead th {\n",
       "        text-align: right;\n",
       "    }\n",
       "</style>\n",
       "<table border=\"1\" class=\"dataframe\">\n",
       "  <thead>\n",
       "    <tr style=\"text-align: right;\">\n",
       "      <th></th>\n",
       "      <th>user_id</th>\n",
       "      <th>score</th>\n",
       "      <th>city</th>\n",
       "      <th>gender</th>\n",
       "      <th>age</th>\n",
       "      <th>objects</th>\n",
       "      <th>balance</th>\n",
       "      <th>products</th>\n",
       "      <th>credit_card</th>\n",
       "      <th>loyalty</th>\n",
       "      <th>estimated_salary</th>\n",
       "      <th>churn</th>\n",
       "      <th>objects_category</th>\n",
       "      <th>salary_category</th>\n",
       "      <th>age_category</th>\n",
       "      <th>score_category</th>\n",
       "      <th>balance_category</th>\n",
       "      <th>city_Ростов Великий</th>\n",
       "      <th>city_Рыбинск</th>\n",
       "      <th>city_Ярославль</th>\n",
       "    </tr>\n",
       "  </thead>\n",
       "  <tbody>\n",
       "    <tr>\n",
       "      <th>0</th>\n",
       "      <td>15677338</td>\n",
       "      <td>619</td>\n",
       "      <td>Ярославль</td>\n",
       "      <td>Ж</td>\n",
       "      <td>42</td>\n",
       "      <td>2</td>\n",
       "      <td>0.00</td>\n",
       "      <td>1</td>\n",
       "      <td>1</td>\n",
       "      <td>1</td>\n",
       "      <td>101,348.88</td>\n",
       "      <td>1</td>\n",
       "      <td>1-2 объекта</td>\n",
       "      <td>высокий достаток</td>\n",
       "      <td>среднего возраста</td>\n",
       "      <td>средний уровень</td>\n",
       "      <td>менее 5000р</td>\n",
       "      <td>0</td>\n",
       "      <td>0</td>\n",
       "      <td>1</td>\n",
       "    </tr>\n",
       "    <tr>\n",
       "      <th>1</th>\n",
       "      <td>15690047</td>\n",
       "      <td>608</td>\n",
       "      <td>Рыбинск</td>\n",
       "      <td>Ж</td>\n",
       "      <td>41</td>\n",
       "      <td>1</td>\n",
       "      <td>83,807.86</td>\n",
       "      <td>1</td>\n",
       "      <td>0</td>\n",
       "      <td>1</td>\n",
       "      <td>112,542.58</td>\n",
       "      <td>0</td>\n",
       "      <td>1-2 объекта</td>\n",
       "      <td>высокий достаток</td>\n",
       "      <td>среднего возраста</td>\n",
       "      <td>средний уровень</td>\n",
       "      <td>более 100 000р</td>\n",
       "      <td>0</td>\n",
       "      <td>1</td>\n",
       "      <td>0</td>\n",
       "    </tr>\n",
       "    <tr>\n",
       "      <th>2</th>\n",
       "      <td>15662040</td>\n",
       "      <td>502</td>\n",
       "      <td>Ярославль</td>\n",
       "      <td>Ж</td>\n",
       "      <td>42</td>\n",
       "      <td>8</td>\n",
       "      <td>159,660.80</td>\n",
       "      <td>3</td>\n",
       "      <td>1</td>\n",
       "      <td>0</td>\n",
       "      <td>113,931.57</td>\n",
       "      <td>1</td>\n",
       "      <td>боле 7 объектов</td>\n",
       "      <td>высокий достаток</td>\n",
       "      <td>среднего возраста</td>\n",
       "      <td>средний уровень</td>\n",
       "      <td>более 100 000р</td>\n",
       "      <td>0</td>\n",
       "      <td>0</td>\n",
       "      <td>1</td>\n",
       "    </tr>\n",
       "    <tr>\n",
       "      <th>3</th>\n",
       "      <td>15744090</td>\n",
       "      <td>699</td>\n",
       "      <td>Ярославль</td>\n",
       "      <td>Ж</td>\n",
       "      <td>39</td>\n",
       "      <td>1</td>\n",
       "      <td>0.00</td>\n",
       "      <td>2</td>\n",
       "      <td>0</td>\n",
       "      <td>0</td>\n",
       "      <td>93,826.63</td>\n",
       "      <td>0</td>\n",
       "      <td>1-2 объекта</td>\n",
       "      <td>средний достаток</td>\n",
       "      <td>среднего возраста</td>\n",
       "      <td>средний уровень</td>\n",
       "      <td>менее 5000р</td>\n",
       "      <td>0</td>\n",
       "      <td>0</td>\n",
       "      <td>1</td>\n",
       "    </tr>\n",
       "    <tr>\n",
       "      <th>4</th>\n",
       "      <td>15780624</td>\n",
       "      <td>850</td>\n",
       "      <td>Рыбинск</td>\n",
       "      <td>Ж</td>\n",
       "      <td>43</td>\n",
       "      <td>2</td>\n",
       "      <td>125,510.82</td>\n",
       "      <td>1</td>\n",
       "      <td>1</td>\n",
       "      <td>1</td>\n",
       "      <td>79,084.10</td>\n",
       "      <td>0</td>\n",
       "      <td>1-2 объекта</td>\n",
       "      <td>средний достаток</td>\n",
       "      <td>среднего возраста</td>\n",
       "      <td>высокий уровень</td>\n",
       "      <td>более 100 000р</td>\n",
       "      <td>0</td>\n",
       "      <td>1</td>\n",
       "      <td>0</td>\n",
       "    </tr>\n",
       "  </tbody>\n",
       "</table>\n",
       "</div>"
      ],
      "text/plain": [
       "    user_id  score       city gender  age  objects    balance  products  \\\n",
       "0  15677338    619  Ярославль      Ж   42        2       0.00         1   \n",
       "1  15690047    608    Рыбинск      Ж   41        1  83,807.86         1   \n",
       "2  15662040    502  Ярославль      Ж   42        8 159,660.80         3   \n",
       "3  15744090    699  Ярославль      Ж   39        1       0.00         2   \n",
       "4  15780624    850    Рыбинск      Ж   43        2 125,510.82         1   \n",
       "\n",
       "   credit_card  loyalty  estimated_salary  churn objects_category  \\\n",
       "0            1        1        101,348.88      1      1-2 объекта   \n",
       "1            0        1        112,542.58      0      1-2 объекта   \n",
       "2            1        0        113,931.57      1  боле 7 объектов   \n",
       "3            0        0         93,826.63      0      1-2 объекта   \n",
       "4            1        1         79,084.10      0      1-2 объекта   \n",
       "\n",
       "    salary_category       age_category   score_category balance_category  \\\n",
       "0  высокий достаток  среднего возраста  средний уровень      менее 5000р   \n",
       "1  высокий достаток  среднего возраста  средний уровень   более 100 000р   \n",
       "2  высокий достаток  среднего возраста  средний уровень   более 100 000р   \n",
       "3  средний достаток  среднего возраста  средний уровень      менее 5000р   \n",
       "4  средний достаток  среднего возраста  высокий уровень   более 100 000р   \n",
       "\n",
       "   city_Ростов Великий  city_Рыбинск  city_Ярославль  \n",
       "0                    0             0               1  \n",
       "1                    0             1               0  \n",
       "2                    0             0               1  \n",
       "3                    0             0               1  \n",
       "4                    0             1               0  "
      ]
     },
     "execution_count": 125,
     "metadata": {},
     "output_type": "execute_result"
    }
   ],
   "source": [
    "y = pd.get_dummies(df.city, prefix='city')\n",
    "df_corr = pd.concat([df,y], axis=1)\n",
    "df_corr.head()\n"
   ]
  },
  {
   "cell_type": "code",
   "execution_count": 126,
   "metadata": {},
   "outputs": [
    {
     "data": {
      "image/png": "[encoded data removed]",
      "text/plain": [
       "<Figure size 1008x720 with 2 Axes>"
      ]
     },
     "metadata": {},
     "output_type": "display_data"
    }
   ],
   "source": [
    "corr_matrix = df_corr.corr()\n",
    "plt.figure(figsize=(14, 10))\n",
    "sns.heatmap(corr_matrix , annot = True, fmt = '0.2f', linewidths=.5, cmap=\"seismic\")\n",
    "plt.show()"
   ]
  },
  {
   "cell_type": "markdown",
   "metadata": {},
   "source": [
    "* Судя по матрице корреляций самое заметное влияние на отток имеют такие признаки как возраст (слабая корреляция), баланс (Корреляция на уровне тенденции) и активность клиента (тенденция к обратной корреляции). \n",
    "\n",
    "* Баланс счета имеет слабую обратную корреляцию с количеством продуктов, которыми пользуется клиент.\n",
    "\n",
    "* В Ростове клиенты с самым высоким балансом (корреляция 0,4). При этом в этом городе самый высокий отток (коэффоициент корреляции 0,17)\n"
   ]
  },
  {
   "cell_type": "markdown",
   "metadata": {},
   "source": [
    "**Выводы** \n",
    "\n",
    "**Клиенты, склонные уходить в отток** \n",
    "* в отток чаще попадают женщины\n",
    "* клиенты среднего возраста (35-40 лет). Клиенты пенсионного возраста, их всего 8% от общего числа клиентов в данной выборке, но в этой категории самый высокий процент оттока - 37% (от общего числа в этой категории).\n",
    "* стоит обратить внимание на клиентов не имеющих объектов в собственности 23% ушедших в отток (от общего числа в этой категории). Это незначительно больше,чем в других категориях.\n",
    "* клиенты со низким уровнем кредитного скоринга (менее 500 баллов)незначительно чаще других групп уходят в отток (23% от общего числа в этой категории).\n",
    "* неактивные клиенты.\n",
    "* у клиента есть кредитная карта.\n",
    "* Клиенты с оцененным уровнем дохода 5 000-30 000р. (55% этой категории попали в отток). Также стоит обратить внимание на клиентов с доходом 30 000 - 50 000р. (20% попали в отток)\n",
    "* клиенты пользующиеся 3-4 продуктами (в случае 4 продуктов это 100%-ый отток).\n",
    "\n",
    "**Клиенты, не склонны уходить в отток**\n",
    "* в отток реже попадают мужчины\n",
    "* по категориям самые стабильные молодые клиенты (до 30 лет), их 92% лояльных.\n",
    "* клиенты имеющие 5 - 7 объектов в собственности, немного меннее склонны уходить в отток. \n",
    "* активные клиенты\n",
    "* с высоким достатком. Или клиенты с оцененным достатком до 5 000рю Возможно о доходах последних просто известно меньше всего. \n",
    "* клиенты использующие 1-2 продукта."
   ]
  },
  {
   "cell_type": "markdown",
   "metadata": {},
   "source": [
    "##  Сегментирование пользователей на основе данных о количестве потребляемых продуктов\n",
    "Подробнее посмотрим на связь количества протребляемых продуктов и отток пользователей. \n"
   ]
  },
  {
   "cell_type": "code",
   "execution_count": 127,
   "metadata": {},
   "outputs": [
    {
     "data": {
      "image/png": "[encoded data removed]",
      "text/plain": [
       "<Figure size 1152x648 with 1 Axes>"
      ]
     },
     "metadata": {},
     "output_type": "display_data"
    }
   ],
   "source": [
    "report = df.groupby('products').count().reset_index().sort_values(by='user_id', ascending=False)\n",
    "ax = sns.barplot(x='products', y='user_id', data=report, palette=colors) \n",
    "\n",
    "ax.set_ylabel('Кол-во клиентов', fontsize=14)\n",
    "ax.set_xlabel('Количество используемого продукта', fontsize=14)\n",
    "ax.set_title('Распределение количества используемого продукта', fontsize=16)\n",
    "plt.show()"
   ]
  },
  {
   "cell_type": "code",
   "execution_count": 128,
   "metadata": {},
   "outputs": [
    {
     "data": {
      "text/html": [
       "<div>\n",
       "<style scoped>\n",
       "    .dataframe tbody tr th:only-of-type {\n",
       "        vertical-align: middle;\n",
       "    }\n",
       "\n",
       "    .dataframe tbody tr th {\n",
       "        vertical-align: top;\n",
       "    }\n",
       "\n",
       "    .dataframe thead th {\n",
       "        text-align: right;\n",
       "    }\n",
       "</style>\n",
       "<table border=\"1\" class=\"dataframe\">\n",
       "  <thead>\n",
       "    <tr style=\"text-align: right;\">\n",
       "      <th></th>\n",
       "      <th>user_id</th>\n",
       "      <th>churn</th>\n",
       "      <th>age</th>\n",
       "      <th>objects</th>\n",
       "      <th>credit_card</th>\n",
       "      <th>loyalty</th>\n",
       "      <th>estimated_salary</th>\n",
       "    </tr>\n",
       "    <tr>\n",
       "      <th>products</th>\n",
       "      <th></th>\n",
       "      <th></th>\n",
       "      <th></th>\n",
       "      <th></th>\n",
       "      <th></th>\n",
       "      <th></th>\n",
       "      <th></th>\n",
       "    </tr>\n",
       "  </thead>\n",
       "  <tbody>\n",
       "    <tr>\n",
       "      <th>1</th>\n",
       "      <td>5084</td>\n",
       "      <td>1409</td>\n",
       "      <td>39.67</td>\n",
       "      <td>4.97</td>\n",
       "      <td>3578</td>\n",
       "      <td>2563</td>\n",
       "      <td>99,487.26</td>\n",
       "    </tr>\n",
       "    <tr>\n",
       "      <th>2</th>\n",
       "      <td>4590</td>\n",
       "      <td>348</td>\n",
       "      <td>37.75</td>\n",
       "      <td>5.05</td>\n",
       "      <td>3246</td>\n",
       "      <td>2446</td>\n",
       "      <td>100,452.01</td>\n",
       "    </tr>\n",
       "    <tr>\n",
       "      <th>3</th>\n",
       "      <td>266</td>\n",
       "      <td>220</td>\n",
       "      <td>43.20</td>\n",
       "      <td>5.00</td>\n",
       "      <td>190</td>\n",
       "      <td>113</td>\n",
       "      <td>104,318.13</td>\n",
       "    </tr>\n",
       "    <tr>\n",
       "      <th>4</th>\n",
       "      <td>60</td>\n",
       "      <td>60</td>\n",
       "      <td>45.68</td>\n",
       "      <td>5.30</td>\n",
       "      <td>41</td>\n",
       "      <td>29</td>\n",
       "      <td>104,763.72</td>\n",
       "    </tr>\n",
       "  </tbody>\n",
       "</table>\n",
       "</div>"
      ],
      "text/plain": [
       "          user_id  churn   age  objects  credit_card  loyalty  \\\n",
       "products                                                        \n",
       "1            5084   1409 39.67     4.97         3578     2563   \n",
       "2            4590    348 37.75     5.05         3246     2446   \n",
       "3             266    220 43.20     5.00          190      113   \n",
       "4              60     60 45.68     5.30           41       29   \n",
       "\n",
       "          estimated_salary  \n",
       "products                    \n",
       "1                99,487.26  \n",
       "2               100,452.01  \n",
       "3               104,318.13  \n",
       "4               104,763.72  "
      ]
     },
     "execution_count": 128,
     "metadata": {},
     "output_type": "execute_result"
    }
   ],
   "source": [
    "df.groupby('products').agg(\n",
    "    {'user_id':'count','churn':'sum', 'age':'mean', \n",
    "     'objects':'mean', 'credit_card':'sum', 'loyalty':'sum',\n",
    "    'estimated_salary':'mean', })"
   ]
  },
  {
   "cell_type": "code",
   "execution_count": 129,
   "metadata": {},
   "outputs": [
    {
     "data": {
      "text/html": [
       "<div>\n",
       "<style scoped>\n",
       "    .dataframe tbody tr th:only-of-type {\n",
       "        vertical-align: middle;\n",
       "    }\n",
       "\n",
       "    .dataframe tbody tr th {\n",
       "        vertical-align: top;\n",
       "    }\n",
       "\n",
       "    .dataframe thead th {\n",
       "        text-align: right;\n",
       "    }\n",
       "</style>\n",
       "<table border=\"1\" class=\"dataframe\">\n",
       "  <thead>\n",
       "    <tr style=\"text-align: right;\">\n",
       "      <th>products</th>\n",
       "      <th>1</th>\n",
       "      <th>2</th>\n",
       "      <th>3</th>\n",
       "      <th>4</th>\n",
       "    </tr>\n",
       "    <tr>\n",
       "      <th>churn</th>\n",
       "      <th></th>\n",
       "      <th></th>\n",
       "      <th></th>\n",
       "      <th></th>\n",
       "    </tr>\n",
       "  </thead>\n",
       "  <tbody>\n",
       "    <tr>\n",
       "      <th>0</th>\n",
       "      <td>3,675.00</td>\n",
       "      <td>4,242.00</td>\n",
       "      <td>46.00</td>\n",
       "      <td>NaN</td>\n",
       "    </tr>\n",
       "    <tr>\n",
       "      <th>1</th>\n",
       "      <td>1,409.00</td>\n",
       "      <td>348.00</td>\n",
       "      <td>220.00</td>\n",
       "      <td>60.00</td>\n",
       "    </tr>\n",
       "  </tbody>\n",
       "</table>\n",
       "</div>"
      ],
      "text/plain": [
       "products        1        2      3     4\n",
       "churn                                  \n",
       "0        3,675.00 4,242.00  46.00   NaN\n",
       "1        1,409.00   348.00 220.00 60.00"
      ]
     },
     "execution_count": 129,
     "metadata": {},
     "output_type": "execute_result"
    }
   ],
   "source": [
    "data = df\\\n",
    "    .pivot_table(\n",
    "        index='churn',\n",
    "        columns='products',\n",
    "        values='user_id',\n",
    "        aggfunc='count'\n",
    "    )\n",
    "data"
   ]
  },
  {
   "cell_type": "code",
   "execution_count": 130,
   "metadata": {},
   "outputs": [
    {
     "data": {
      "image/png": "[encoded data removed]",
      "text/plain": [
       "<Figure size 864x288 with 2 Axes>"
      ]
     },
     "metadata": {},
     "output_type": "display_data"
    }
   ],
   "source": [
    "plt.figure(figsize=(12, 4))\n",
    "sns.heatmap(data, cmap='Reds', annot=True, fmt='.0f')\n",
    "plt.title('Отток - количество продуктов, которыми пользуется клиент')\n",
    "plt.show()"
   ]
  },
  {
   "cell_type": "code",
   "execution_count": 131,
   "metadata": {},
   "outputs": [
    {
     "ename": "NameError",
     "evalue": "name 'in_precents' is not defined",
     "output_type": "error",
     "traceback": [
      "\u001b[0;31m---------------------------------------------------------------------------\u001b[0m",
      "\u001b[0;31mNameError\u001b[0m                                 Traceback (most recent call last)",
      "\u001b[0;32m/tmp/ipykernel_25/2502066779.py\u001b[0m in \u001b[0;36m<module>\u001b[0;34m\u001b[0m\n\u001b[0;32m----> 1\u001b[0;31m \u001b[0mdata_new\u001b[0m \u001b[0;34m=\u001b[0m \u001b[0min_precents\u001b[0m\u001b[0;34m(\u001b[0m\u001b[0mdata\u001b[0m\u001b[0;34m)\u001b[0m\u001b[0;34m\u001b[0m\u001b[0;34m\u001b[0m\u001b[0m\n\u001b[0m\u001b[1;32m      2\u001b[0m \u001b[0mplt\u001b[0m\u001b[0;34m.\u001b[0m\u001b[0mfigure\u001b[0m\u001b[0;34m(\u001b[0m\u001b[0mfigsize\u001b[0m\u001b[0;34m=\u001b[0m\u001b[0;34m(\u001b[0m\u001b[0;36m12\u001b[0m\u001b[0;34m,\u001b[0m \u001b[0;36m4\u001b[0m\u001b[0;34m)\u001b[0m\u001b[0;34m)\u001b[0m\u001b[0;34m\u001b[0m\u001b[0;34m\u001b[0m\u001b[0m\n\u001b[1;32m      3\u001b[0m \u001b[0msns\u001b[0m\u001b[0;34m.\u001b[0m\u001b[0mheatmap\u001b[0m\u001b[0;34m(\u001b[0m\u001b[0mdata_new\u001b[0m\u001b[0;34m,\u001b[0m \u001b[0mcmap\u001b[0m\u001b[0;34m=\u001b[0m\u001b[0;34m'Blues'\u001b[0m\u001b[0;34m,\u001b[0m \u001b[0mannot\u001b[0m\u001b[0;34m=\u001b[0m\u001b[0;32mTrue\u001b[0m\u001b[0;34m,\u001b[0m \u001b[0mfmt\u001b[0m\u001b[0;34m=\u001b[0m\u001b[0;34m'.0f'\u001b[0m\u001b[0;34m)\u001b[0m\u001b[0;34m\u001b[0m\u001b[0;34m\u001b[0m\u001b[0m\n\u001b[1;32m      4\u001b[0m \u001b[0mplt\u001b[0m\u001b[0;34m.\u001b[0m\u001b[0mtitle\u001b[0m\u001b[0;34m(\u001b[0m\u001b[0;34m'Отток - количество продуктов, которыми пользуется клиент, (в %)'\u001b[0m\u001b[0;34m)\u001b[0m\u001b[0;34m\u001b[0m\u001b[0;34m\u001b[0m\u001b[0m\n\u001b[1;32m      5\u001b[0m \u001b[0mplt\u001b[0m\u001b[0;34m.\u001b[0m\u001b[0mshow\u001b[0m\u001b[0;34m(\u001b[0m\u001b[0;34m)\u001b[0m\u001b[0;34m\u001b[0m\u001b[0;34m\u001b[0m\u001b[0m\n",
      "\u001b[0;31mNameError\u001b[0m: name 'in_precents' is not defined"
     ]
    }
   ],
   "source": [
    "data_new = in_precents(data)\n",
    "plt.figure(figsize=(12, 4))\n",
    "sns.heatmap(data_new, cmap='Blues', annot=True, fmt='.0f')\n",
    "plt.title('Отток - количество продуктов, которыми пользуется клиент, (в %)')\n",
    "plt.show()"
   ]
  },
  {
   "cell_type": "markdown",
   "metadata": {},
   "source": [
    "Кажется, что уход в отток довольно сильно связан с количеством используемого продукта.  Среди тех, кто пользуется 4 продуктами все попадают в отток. 83% клиентов использующих 3 продукта попадают в отток. 28% использующих 1 продукт попадают в отток и только 8% использующих 2 продукта клиентов попадают в отток, это самая постоянная группа. Проверим это предположение используя статистический критерий."
   ]
  },
  {
   "cell_type": "markdown",
   "metadata": {},
   "source": [
    "### Гипотеза о связи между количеством используемтого продукта и оттоком пользователей."
   ]
  },
  {
   "cell_type": "markdown",
   "metadata": {},
   "source": [
    "Для проверки гипотезы используем U-критерий (Манна-Уитни).\n",
    "\n",
    "Сформулируем гипотезы\n",
    "\n",
    "H0: Количество используемых продуктов клиентами, которые ушли, не отличается от количества используемых продуктов клиентов, которые остались\n",
    "\n",
    "H1: Количество используемых продуктов клиентами, которые ушли, отличается от количества используемых продуктов клиентов, которые остались"
   ]
  },
  {
   "cell_type": "code",
   "execution_count": null,
   "metadata": {},
   "outputs": [],
   "source": [
    "alpha = 0.01\n",
    "\n",
    "results = st.mannwhitneyu(df[df['churn']==1]['products'], df[df['churn']==0]['estimated_salary'])\n",
    "pvalue = results.pvalue\n",
    "\n",
    "print('p-значение: ', pvalue)\n",
    "\n",
    "if (pvalue < alpha):\n",
    "    print(\"Отвергаем H0: разница статистически значима\")\n",
    "else:\n",
    "    print(\"Не получилось отвергнуть H0: различия случайны\")"
   ]
  },
  {
   "cell_type": "markdown",
   "metadata": {},
   "source": [
    "**Вывод**\n",
    "\n",
    "Разница в количестве используемых продуктов среди пользователей ушедших в отток и не ушедших статистически значима, группы различаются. \n",
    "\n",
    "Пользователи, использующие 2 продукта реже всего попадают в отток. На втором месте пользователи, использующие 1 продукт. \n",
    "\n",
    "Пользователи, использующие 3 или 4 продукта с высокой степенью вероятности попадут в отток. \n"
   ]
  },
  {
   "cell_type": "markdown",
   "metadata": {},
   "source": [
    "### Гипотиза о различии дохода между теми клиентами, которые пользуются двумя продуктами банка, и теми, которые пользуются одним.\n"
   ]
  },
  {
   "cell_type": "markdown",
   "metadata": {},
   "source": [
    "Построим распределение уровня дохода клиентов"
   ]
  },
  {
   "cell_type": "code",
   "execution_count": null,
   "metadata": {},
   "outputs": [],
   "source": [
    "sns_plot = sns.distplot(df['estimated_salary'])\n",
    "fig = sns_plot.get_figure()\n",
    "plt.title('Распределение уровня дохода клиентов')"
   ]
  },
  {
   "cell_type": "markdown",
   "metadata": {},
   "source": [
    "Для проверки гипотезы используем U-критерий (Манна-Уитни).\n",
    "\n",
    "Сформулируем гипотезы\n",
    "\n",
    "H0: Доход клиентов, которые пользуются одним продуктом банка не отличается от дохода клиентов, которые используют два продукта\n",
    "\n",
    "H1: Доход клиентов, которые пользуются одним продуктом банка отличается от дохода клиентов, которые используют два продукта"
   ]
  },
  {
   "cell_type": "code",
   "execution_count": null,
   "metadata": {},
   "outputs": [],
   "source": [
    "alpha = 0.05\n",
    "\n",
    "results = st.mannwhitneyu(df[df['products']==1]['estimated_salary'], df[df['products']==2]['estimated_salary'])\n",
    "pvalue = results.pvalue\n",
    "\n",
    "print('p-значение: ', pvalue)\n",
    "\n",
    "if (pvalue < alpha):\n",
    "    print(\"Отвергаем H0: разница статистически значима\")\n",
    "else:\n",
    "    print(\"Не получилось отвергнуть H0: различия случайны\")"
   ]
  },
  {
   "cell_type": "code",
   "execution_count": null,
   "metadata": {},
   "outputs": [],
   "source": [
    "print('Медианное значение дохода у тех, кто использует 1 продукт:', df[df['products']==1]['estimated_salary'].median())\n",
    "print('Медианное значение дохода у тех, кто использует 2 продукта:', df[df['products']==2]['estimated_salary'].median())"
   ]
  },
  {
   "cell_type": "markdown",
   "metadata": {},
   "source": [
    "**Вывод** \n",
    "\n",
    "Доход клиентов, которые используют 2 продукта немного превосходит доход клиентв, которые используют 1 продут. Но разница случайна, статистически не значима"
   ]
  },
  {
   "cell_type": "markdown",
   "metadata": {},
   "source": [
    "## Кластеризация клиентов\n",
    "Обучим модель и выполним кластерный анализ. Опишем кластеры. Сравним отток среди полученных кластеров. На основании полученных кластеров постараемся определить, какие клиенты чаще других уходят а какие наиболее лояльны. "
   ]
  },
  {
   "cell_type": "markdown",
   "metadata": {},
   "source": [
    "Переведем названия городов и пол в числовые значения, чтобы можно было обучить модель.\n",
    "\n",
    "* Ярославль - 0\n",
    "* Рыбинск - 1\n",
    "* Ростов Великий - 2\n",
    "\n",
    "* Жен - 0\n",
    "* Муж- 1"
   ]
  },
  {
   "cell_type": "code",
   "execution_count": null,
   "metadata": {},
   "outputs": [],
   "source": [
    "df['city'] = df['city'].replace({'Ярославль':0, 'Рыбинск': 1, 'Ростов Великий': 2})\n",
    "df['gender'] = df['gender'].replace({'Ж':0, 'М': 1})\n",
    "\n",
    "df.drop('salary_category', axis=1, inplace=True)\n",
    "df.drop('age_category', axis=1, inplace=True)\n",
    "df.drop('objects_category', axis=1, inplace=True)\n",
    "df.drop('balance_category', axis=1, inplace=True)\n",
    "df.drop('score_category', axis=1, inplace=True)\n"
   ]
  },
  {
   "cell_type": "code",
   "execution_count": null,
   "metadata": {},
   "outputs": [],
   "source": [
    "df_sс = df.drop(['churn'], axis=1)\n",
    "df_columns_list = df_sс.columns\n",
    "df_sс = StandardScaler().fit_transform(df_sс)\n",
    "df_sс = pd.DataFrame(df_sс, columns = df_columns_list).astype('float64')\n",
    "linked = linkage(df_sс, method = 'ward')"
   ]
  },
  {
   "cell_type": "code",
   "execution_count": null,
   "metadata": {},
   "outputs": [],
   "source": [
    "plt.figure(figsize=(16, 9))  \n",
    "dendrogram(linked, orientation = 'top')\n",
    "plt.title('Кластеризация пользователей')\n",
    "plt.show()"
   ]
  },
  {
   "cell_type": "markdown",
   "metadata": {},
   "source": [
    "Вылеляются 4 кластера. Посмотрим на них подробнее."
   ]
  },
  {
   "cell_type": "code",
   "execution_count": null,
   "metadata": {},
   "outputs": [],
   "source": [
    "km = KMeans(n_clusters = 4)\n",
    "labels = km.fit_predict(df_sс)\n",
    "df['cluster'] = labels\n",
    "\n",
    "df.cluster.value_counts()"
   ]
  },
  {
   "cell_type": "code",
   "execution_count": null,
   "metadata": {},
   "outputs": [],
   "source": [
    "df.groupby('cluster').mean().T\n"
   ]
  },
  {
   "cell_type": "markdown",
   "metadata": {},
   "source": [
    "Самый большой отток клиентов у четвертого кластера (32%). В большинстве своём это клиенты из Ростова"
   ]
  },
  {
   "cell_type": "code",
   "execution_count": null,
   "metadata": {},
   "outputs": [],
   "source": [
    "for column in ['gender', 'credit_card', 'loyalty']:\n",
    "    plt.figure(figsize=(5, 5))\n",
    "    sns.countplot(x = df[column],  hue='cluster', data=df, palette=colors)\n",
    "    plt.title(column)\n",
    "    plt.show()"
   ]
  },
  {
   "cell_type": "markdown",
   "metadata": {},
   "source": [
    "1 и 2 кластер - клиенты, у которых есть кредитная карта. У всех клиентов третьего кластера нет крудитной карты. Четвертый кластер (с наибольшим оттоком) включате как пользователей с кредитной картой, так и без. Но у большинства она есть. "
   ]
  },
  {
   "cell_type": "code",
   "execution_count": null,
   "metadata": {},
   "outputs": [],
   "source": [
    "for column in ['score', 'city', 'age', 'objects', 'balance', 'products', 'estimated_salary']:\n",
    "    plt.figure(figsize=(5, 5))\n",
    "    plt.title(column)   \n",
    "    sns.kdeplot(df.query('cluster==0')[column], label = 'Кластер 0')\n",
    "    sns.kdeplot(df.query('cluster==1')[column], label = 'Кластер 1')\n",
    "    sns.kdeplot(df.query('cluster==2')[column], label = 'Кластер 2')\n",
    "    sns.kdeplot(df.query('cluster==3')[column], label = 'Кластер 3')\n",
    "    \n",
    "    sns.set_style('whitegrid')\n",
    "    plt.legend()\n",
    "    plt.show()"
   ]
  },
  {
   "cell_type": "markdown",
   "metadata": {},
   "source": [
    "* Все клиенты из Ростова вошли в 4ый кластер. \n",
    "* Большинство клиентов без дебетовой карты относятся ко второму кластеру. \n",
    "* Клиенты 1 кластера чаще всего пользуются 1 продуктом. Клиенты второго кластера - двумя продуктами. \n"
   ]
  },
  {
   "cell_type": "markdown",
   "metadata": {},
   "source": [
    "**Выводы** \n",
    "\n",
    "Оптимально выделить 4 кластера. \n",
    "\n",
    "Самый большой отток у 4ого кластера.тот кластер характеризуются клиентами из Ростова. Боьшинство клиентов этого кластера имеют банковскую карту. "
   ]
  },
  {
   "cell_type": "markdown",
   "metadata": {},
   "source": [
    "## Выводы и рекомендации"
   ]
  },
  {
   "cell_type": "markdown",
   "metadata": {},
   "source": [
    "**Портреты клиентов**\n",
    "\n",
    "**Клиенты, склонные уходить в отток** \n",
    "* в отток чаще попадают женщины\n",
    "* клиенты среднего возраста (35-40 лет). Клиенты пенсионного возраста, их всего 8% от общего числа клиентов в данной выборке, но в этой категории самый высокий процент оттока - 37% (от общего числа в этой категории).\n",
    "* стоит обратить внимание на клиентов не имеющих объектов в собственности 23% ушедших в отток (от общего числа в этой категории). Это незначительно больше,чем в других категориях.\n",
    "* клиенты со низким уровнем кредитного скоринга (менее 500 баллов)незначительно чаще других групп уходят в отток (23% от общего числа в этой категории).\n",
    "* неактивные клиенты.\n",
    "* у клиента есть кредитная карта.\n",
    "* Клиенты с оцененным уровнем дохода 5 000-30 000р. (55% этой категории попали в отток). Также стоит обратить внимание на клиентов с доходом 30 000 - 50 000р. (20% попали в отток)\n",
    "* клиенты пользующиеся 3-4 продуктами (в случае 4 продуктов это 100%-ый отток).\n",
    "* клиенты из Ростова\n",
    "\n",
    "**Клиенты, не склонны уходить в отток**\n",
    "* в отток реже попадают мужчины\n",
    "* по категориям самые стабильные молодые клиенты (до 30 лет), их 92% лояльных.\n",
    "* клиенты имеющие 5 - 7 объектов в собственности, немного меннее склонны уходить в отток. \n",
    "* активные клиенты\n",
    "* с высоким достатком. Или клиенты с оцененным достатком до 5 000р. Возможно, о доходах последних просто известно меньше всего. \n",
    "* клиенты использующие 1-2 продукта.\n",
    "\n",
    "**Связь количества используемых продуктов и ухода в отток** \n",
    "\n",
    "Разница в количестве используемых продуктов среди пользователей ушедших в отток и не ушедших статистически значима.\n",
    "\n",
    "Пользователи, использующие 2 продукта реже всего попадают в отток (только 8% попадают в отток). На втором месте пользователи, использующие 1 продукт(28% попадают в отток). Среди тех, кто пользуется 4 продуктами все попадают в отток. 83% клиентов использующих 3 продукта попадают в отток.\n",
    "\n",
    "**Различие дохода между теми клиентами, которые пользуются двумя продуктами банка, и теми, которые пользуются одним.**\n",
    "\n",
    "Доход пользователей, которые пользуются двумя продуктами банка не отличается от дохода пользователей, пользующихся одним продуктом. \n",
    "\n",
    "\n",
    "**Рекомендации** \n",
    "* Довольно высокий процент клиентов **среднего возраста** попадает в отток (22%). Для таких клиентов актуальным предложением может стать **ипотека** на жильё или **кредит на покупку автомобиля**. Продвижение этих услуг в данной группе может снизить отток. Также в текущих обстоятельствах актуальна **сельская ипотека**, так как с возрастанием возможности удалённой работы многие люди этой категории принимают решение о переезде в сельскую местность.  \n",
    "* Очень высокий отток среди пенсионеров. Это самая малочисленная возростная группа среди пользователей банка. Им можно предложить социальную программы **оплаты коммунальных услуг без комиссии**. Такая программа повысит популярность банка среди данной категории и уменьшит отток. \n",
    "* Высокий отток среди **неактивных** клиентов. Предложение **кеш бек системы для кредитных карт** должна повысить активность использования кредитных карт и уменьшить отток. \n",
    "* Высокий отток среди клиентов, которые **используют 3-4 продукта**. Вероятно, люди начинают пользоваться новыми продуктами, когда два продукта, которые они уже используют не закрывают их потребности и уходят когда оказывается, что другие продукты также не закрывают потребности. Начало использования третьего продукта должно быть маячком, после которого сотрудник банка должен связаться с клиентом, прояснить его потребности и сделать **индивидуальное предложение под запрос клиента**. В дальнейшем это поможет в разработке нового продукта. \n",
    "* Таргетировать рекламу на молодых клиентов (до 30 лет) и на клиентов с высоким заработком. Эти группы самые лояльные. \n",
    "* Провести проверку офисов **в Ростове**. В этом городе отток значительно выше, чем в других городах при тех же предложениях. Возможно, проблема в **качестве обслуживания**. "
   ]
  },
  {
   "cell_type": "code",
   "execution_count": null,
   "metadata": {},
   "outputs": [],
   "source": []
  }
 ],
 "metadata": {
  "ExecuteTimeLog": [
   {
    "duration": 206,
    "start_time": "2022-05-17T10:08:23.102Z"
   },
   {
    "duration": 31376,
    "start_time": "2022-05-17T10:09:16.460Z"
   },
   {
    "duration": 52,
    "start_time": "2022-05-17T10:09:47.838Z"
   },
   {
    "duration": 36,
    "start_time": "2022-05-17T10:09:50.578Z"
   },
   {
    "duration": 14,
    "start_time": "2022-05-17T10:09:50.779Z"
   },
   {
    "duration": 204,
    "start_time": "2022-05-17T10:39:37.822Z"
   },
   {
    "duration": 199,
    "start_time": "2022-05-17T10:44:50.199Z"
   },
   {
    "duration": 2429,
    "start_time": "2022-05-17T20:28:05.654Z"
   },
   {
    "duration": 218,
    "start_time": "2022-05-17T20:28:08.086Z"
   },
   {
    "duration": 59,
    "start_time": "2022-05-17T20:28:08.306Z"
   },
   {
    "duration": 20,
    "start_time": "2022-05-17T20:28:08.368Z"
   },
   {
    "duration": 12,
    "start_time": "2022-05-17T20:28:08.390Z"
   },
   {
    "duration": 19,
    "start_time": "2022-05-17T20:28:08.403Z"
   },
   {
    "duration": 56,
    "start_time": "2022-05-17T20:28:08.425Z"
   },
   {
    "duration": 17,
    "start_time": "2022-05-17T20:28:08.482Z"
   },
   {
    "duration": 75,
    "start_time": "2022-05-17T20:28:08.500Z"
   },
   {
    "duration": 25,
    "start_time": "2022-05-17T20:28:08.577Z"
   },
   {
    "duration": 69,
    "start_time": "2022-05-17T20:28:08.604Z"
   },
   {
    "duration": 72,
    "start_time": "2022-05-17T20:28:08.675Z"
   },
   {
    "duration": 18,
    "start_time": "2022-05-17T20:28:08.750Z"
   },
   {
    "duration": 27,
    "start_time": "2022-05-17T20:28:08.771Z"
   },
   {
    "duration": 18,
    "start_time": "2022-05-17T20:28:08.800Z"
   },
   {
    "duration": 86,
    "start_time": "2022-05-17T20:28:08.820Z"
   },
   {
    "duration": 8,
    "start_time": "2022-05-17T20:28:08.908Z"
   },
   {
    "duration": 48,
    "start_time": "2022-05-17T20:28:08.918Z"
   },
   {
    "duration": 25,
    "start_time": "2022-05-17T20:28:08.968Z"
   },
   {
    "duration": 32,
    "start_time": "2022-05-17T20:28:08.995Z"
   },
   {
    "duration": 72,
    "start_time": "2022-05-17T20:28:09.029Z"
   },
   {
    "duration": 4,
    "start_time": "2022-05-17T20:28:09.103Z"
   },
   {
    "duration": 1634,
    "start_time": "2022-05-17T20:28:09.109Z"
   },
   {
    "duration": 796,
    "start_time": "2022-05-17T20:28:10.748Z"
   },
   {
    "duration": 236,
    "start_time": "2022-05-17T20:28:11.546Z"
   },
   {
    "duration": 243,
    "start_time": "2022-05-17T20:28:11.784Z"
   },
   {
    "duration": 220,
    "start_time": "2022-05-17T20:28:12.029Z"
   },
   {
    "duration": 17,
    "start_time": "2022-05-17T20:28:12.251Z"
   },
   {
    "duration": 519,
    "start_time": "2022-05-17T20:28:12.270Z"
   },
   {
    "duration": 56,
    "start_time": "2022-05-17T20:28:12.791Z"
   },
   {
    "duration": 191,
    "start_time": "2022-05-17T20:28:12.850Z"
   },
   {
    "duration": 130,
    "start_time": "2022-05-17T20:28:13.042Z"
   },
   {
    "duration": 106,
    "start_time": "2022-05-17T20:28:13.174Z"
   },
   {
    "duration": 115,
    "start_time": "2022-05-17T20:28:13.282Z"
   },
   {
    "duration": 173,
    "start_time": "2022-05-17T20:28:13.398Z"
   },
   {
    "duration": 58,
    "start_time": "2022-05-17T20:29:44.511Z"
   },
   {
    "duration": 3,
    "start_time": "2022-05-17T20:30:06.358Z"
   },
   {
    "duration": 3,
    "start_time": "2022-05-17T20:30:56.070Z"
   },
   {
    "duration": 312,
    "start_time": "2022-05-17T20:31:50.556Z"
   },
   {
    "duration": 446,
    "start_time": "2022-05-17T20:33:26.959Z"
   },
   {
    "duration": 4,
    "start_time": "2022-05-17T20:34:43.653Z"
   },
   {
    "duration": 350,
    "start_time": "2022-05-17T20:34:44.840Z"
   },
   {
    "duration": 7,
    "start_time": "2022-05-17T21:06:40.773Z"
   },
   {
    "duration": 843,
    "start_time": "2022-05-17T21:06:41.502Z"
   },
   {
    "duration": 5,
    "start_time": "2022-05-17T21:26:20.684Z"
   },
   {
    "duration": 911,
    "start_time": "2022-05-17T21:26:21.696Z"
   },
   {
    "duration": 11,
    "start_time": "2022-05-17T21:27:11.808Z"
   },
   {
    "duration": 899,
    "start_time": "2022-05-17T21:27:17.801Z"
   },
   {
    "duration": 6,
    "start_time": "2022-05-17T21:28:15.139Z"
   },
   {
    "duration": 768,
    "start_time": "2022-05-17T21:28:17.369Z"
   },
   {
    "duration": 5,
    "start_time": "2022-05-17T21:28:39.584Z"
   },
   {
    "duration": 811,
    "start_time": "2022-05-17T21:28:42.843Z"
   },
   {
    "duration": 1135,
    "start_time": "2022-05-17T21:29:07.067Z"
   },
   {
    "duration": 811,
    "start_time": "2022-05-17T21:29:11.621Z"
   },
   {
    "duration": 697,
    "start_time": "2022-05-17T21:29:41.649Z"
   },
   {
    "duration": 671,
    "start_time": "2022-05-17T21:30:27.161Z"
   },
   {
    "duration": 606,
    "start_time": "2022-05-17T21:31:00.454Z"
   },
   {
    "duration": 7,
    "start_time": "2022-05-17T21:32:09.962Z"
   },
   {
    "duration": 714,
    "start_time": "2022-05-17T21:32:11.056Z"
   },
   {
    "duration": 6,
    "start_time": "2022-05-17T21:33:49.699Z"
   },
   {
    "duration": 741,
    "start_time": "2022-05-17T21:33:50.411Z"
   },
   {
    "duration": 765,
    "start_time": "2022-05-17T21:33:52.607Z"
   },
   {
    "duration": 696,
    "start_time": "2022-05-17T21:33:56.299Z"
   },
   {
    "duration": 686,
    "start_time": "2022-05-17T21:34:08.367Z"
   },
   {
    "duration": 701,
    "start_time": "2022-05-17T21:34:15.269Z"
   },
   {
    "duration": 675,
    "start_time": "2022-05-17T21:34:54.755Z"
   },
   {
    "duration": 950,
    "start_time": "2022-05-17T21:37:19.308Z"
   },
   {
    "duration": 823,
    "start_time": "2022-05-17T21:38:31.666Z"
   },
   {
    "duration": 551,
    "start_time": "2022-05-17T21:39:46.541Z"
   },
   {
    "duration": 616,
    "start_time": "2022-05-17T21:40:38.182Z"
   },
   {
    "duration": 18,
    "start_time": "2022-05-17T22:04:24.390Z"
   },
   {
    "duration": 19,
    "start_time": "2022-05-17T22:04:55.339Z"
   },
   {
    "duration": 10,
    "start_time": "2022-05-17T22:06:08.266Z"
   },
   {
    "duration": 34,
    "start_time": "2022-05-17T22:07:15.001Z"
   },
   {
    "duration": 19,
    "start_time": "2022-05-17T22:12:06.273Z"
   },
   {
    "duration": 17,
    "start_time": "2022-05-17T22:12:12.345Z"
   },
   {
    "duration": 33,
    "start_time": "2022-05-17T22:15:25.637Z"
   },
   {
    "duration": 1449,
    "start_time": "2022-05-17T22:15:52.474Z"
   },
   {
    "duration": 7,
    "start_time": "2022-05-17T22:21:25.882Z"
   },
   {
    "duration": 83,
    "start_time": "2022-05-17T22:21:25.891Z"
   },
   {
    "duration": 56,
    "start_time": "2022-05-17T22:21:25.976Z"
   },
   {
    "duration": 15,
    "start_time": "2022-05-17T22:21:26.034Z"
   },
   {
    "duration": 18,
    "start_time": "2022-05-17T22:21:26.051Z"
   },
   {
    "duration": 11,
    "start_time": "2022-05-17T22:21:26.071Z"
   },
   {
    "duration": 5,
    "start_time": "2022-05-17T22:21:26.083Z"
   },
   {
    "duration": 5,
    "start_time": "2022-05-17T22:21:26.090Z"
   },
   {
    "duration": 44,
    "start_time": "2022-05-17T22:21:26.112Z"
   },
   {
    "duration": 19,
    "start_time": "2022-05-17T22:21:26.158Z"
   },
   {
    "duration": 8,
    "start_time": "2022-05-17T22:21:26.178Z"
   },
   {
    "duration": 63,
    "start_time": "2022-05-17T22:21:26.188Z"
   },
   {
    "duration": 6,
    "start_time": "2022-05-17T22:21:26.259Z"
   },
   {
    "duration": 16,
    "start_time": "2022-05-17T22:21:26.267Z"
   },
   {
    "duration": 4,
    "start_time": "2022-05-17T22:21:26.286Z"
   },
   {
    "duration": 57,
    "start_time": "2022-05-17T22:21:26.293Z"
   },
   {
    "duration": 10,
    "start_time": "2022-05-17T22:21:26.352Z"
   },
   {
    "duration": 19,
    "start_time": "2022-05-17T22:21:26.365Z"
   },
   {
    "duration": 15,
    "start_time": "2022-05-17T22:21:26.388Z"
   },
   {
    "duration": 25,
    "start_time": "2022-05-17T22:21:26.405Z"
   },
   {
    "duration": 62,
    "start_time": "2022-05-17T22:21:26.433Z"
   },
   {
    "duration": 3,
    "start_time": "2022-05-17T22:21:26.496Z"
   },
   {
    "duration": 1477,
    "start_time": "2022-05-17T22:21:26.501Z"
   },
   {
    "duration": 600,
    "start_time": "2022-05-17T22:21:27.980Z"
   },
   {
    "duration": 193,
    "start_time": "2022-05-17T22:21:28.582Z"
   },
   {
    "duration": 194,
    "start_time": "2022-05-17T22:21:28.777Z"
   },
   {
    "duration": 177,
    "start_time": "2022-05-17T22:21:28.973Z"
   },
   {
    "duration": 12,
    "start_time": "2022-05-17T22:21:29.152Z"
   },
   {
    "duration": 592,
    "start_time": "2022-05-17T22:21:29.166Z"
   },
   {
    "duration": 84,
    "start_time": "2022-05-17T22:21:29.759Z"
   },
   {
    "duration": 138,
    "start_time": "2022-05-17T22:21:29.849Z"
   },
   {
    "duration": 109,
    "start_time": "2022-05-17T22:21:29.989Z"
   },
   {
    "duration": 107,
    "start_time": "2022-05-17T22:21:30.099Z"
   },
   {
    "duration": 120,
    "start_time": "2022-05-17T22:21:30.217Z"
   },
   {
    "duration": 131,
    "start_time": "2022-05-17T22:21:30.345Z"
   },
   {
    "duration": 6,
    "start_time": "2022-05-17T22:21:30.478Z"
   },
   {
    "duration": 730,
    "start_time": "2022-05-17T22:21:30.488Z"
   },
   {
    "duration": 651,
    "start_time": "2022-05-17T22:21:31.220Z"
   },
   {
    "duration": 711,
    "start_time": "2022-05-17T22:21:31.875Z"
   },
   {
    "duration": 666,
    "start_time": "2022-05-17T22:21:32.588Z"
   },
   {
    "duration": 667,
    "start_time": "2022-05-17T22:21:33.255Z"
   },
   {
    "duration": 721,
    "start_time": "2022-05-17T22:21:33.924Z"
   },
   {
    "duration": 567,
    "start_time": "2022-05-17T22:21:34.647Z"
   },
   {
    "duration": 650,
    "start_time": "2022-05-17T22:21:35.216Z"
   },
   {
    "duration": 653,
    "start_time": "2022-05-17T22:21:35.867Z"
   },
   {
    "duration": 625,
    "start_time": "2022-05-17T22:21:36.524Z"
   },
   {
    "duration": 26,
    "start_time": "2022-05-17T22:21:37.151Z"
   },
   {
    "duration": 1525,
    "start_time": "2022-05-17T22:21:37.179Z"
   },
   {
    "duration": 206,
    "start_time": "2022-05-17T22:21:38.716Z"
   },
   {
    "duration": 24,
    "start_time": "2022-05-17T22:21:38.926Z"
   },
   {
    "duration": 18,
    "start_time": "2022-05-17T22:21:38.952Z"
   },
   {
    "duration": 311,
    "start_time": "2022-05-17T22:21:38.972Z"
   },
   {
    "duration": 12,
    "start_time": "2022-05-17T22:21:39.285Z"
   },
   {
    "duration": 0,
    "start_time": "2022-05-17T22:21:39.299Z"
   },
   {
    "duration": 0,
    "start_time": "2022-05-17T22:21:39.317Z"
   },
   {
    "duration": 0,
    "start_time": "2022-05-17T22:21:39.317Z"
   },
   {
    "duration": 0,
    "start_time": "2022-05-17T22:21:39.318Z"
   },
   {
    "duration": 0,
    "start_time": "2022-05-17T22:21:39.318Z"
   },
   {
    "duration": 0,
    "start_time": "2022-05-17T22:21:39.319Z"
   },
   {
    "duration": 0,
    "start_time": "2022-05-17T22:21:39.322Z"
   },
   {
    "duration": 0,
    "start_time": "2022-05-17T22:21:39.332Z"
   },
   {
    "duration": 0,
    "start_time": "2022-05-17T22:21:39.333Z"
   },
   {
    "duration": 0,
    "start_time": "2022-05-17T22:21:39.333Z"
   },
   {
    "duration": 0,
    "start_time": "2022-05-17T22:21:39.334Z"
   },
   {
    "duration": 45,
    "start_time": "2022-05-18T13:50:58.424Z"
   }
  ],
  "kernelspec": {
   "display_name": "Python 3 (ipykernel)",
   "language": "python",
   "name": "python3"
  },
  "language_info": {
   "codemirror_mode": {
    "name": "ipython",
    "version": 3
   },
   "file_extension": ".py",
   "mimetype": "text/x-python",
   "name": "python",
   "nbconvert_exporter": "python",
   "pygments_lexer": "ipython3",
   "version": "3.8.8"
  },
  "toc": {
   "base_numbering": 1,
   "nav_menu": {},
   "number_sections": true,
   "sideBar": true,
   "skip_h1_title": true,
   "title_cell": "Table of Contents",
   "title_sidebar": "Contents",
   "toc_cell": false,
   "toc_position": {},
   "toc_section_display": true,
   "toc_window_display": true
  }
 },
 "nbformat": 4,
 "nbformat_minor": 2
}
